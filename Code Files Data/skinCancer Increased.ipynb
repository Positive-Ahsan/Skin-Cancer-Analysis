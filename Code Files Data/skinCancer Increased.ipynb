{
 "cells": [
  {
   "cell_type": "code",
   "execution_count": null,
   "metadata": {},
   "outputs": [],
   "source": [
    "pip install tensorflow"
   ]
  },
  {
   "cell_type": "code",
   "execution_count": null,
   "metadata": {},
   "outputs": [],
   "source": [
    "pip install sklearn"
   ]
  },
  {
   "cell_type": "code",
   "execution_count": null,
   "metadata": {},
   "outputs": [],
   "source": [
    "pip install matplotlib"
   ]
  },
  {
   "cell_type": "code",
   "execution_count": null,
   "metadata": {},
   "outputs": [],
   "source": [
    "pip install keras"
   ]
  },
  {
   "cell_type": "code",
   "execution_count": null,
   "metadata": {},
   "outputs": [],
   "source": [
    "pip install seaborn"
   ]
  },
  {
   "cell_type": "code",
   "execution_count": null,
   "metadata": {},
   "outputs": [],
   "source": [
    "pip install pydotplus"
   ]
  },
  {
   "cell_type": "code",
   "execution_count": 26,
   "metadata": {},
   "outputs": [],
   "source": [
    "import matplotlib.pyplot as plt\n",
    "from PIL import Image\n",
    "import seaborn as sns\n",
    "import numpy as np\n",
    "import pandas as pd\n",
    "import os\n",
    "from tensorflow.keras.utils import to_categorical\n",
    "from glob import glob\n",
    "\n",
    "\n",
    "from sklearn.model_selection import train_test_split\n",
    "import keras\n",
    "from keras.models import Sequential\n",
    "from keras.layers import Dense, Dropout\n",
    "import tensorflow as tf\n",
    "from sklearn.preprocessing import StandardScaler\n",
    "from sklearn.tree import DecisionTreeClassifier\n",
    "from sklearn.ensemble import RandomForestClassifier\n",
    "from sklearn.neighbors import KNeighborsClassifier\n",
    "from sklearn.metrics import accuracy_score, confusion_matrix, classification_report\n",
    "from tensorflow.keras.optimizers import Adam\n",
    "from tensorflow.keras.callbacks import ReduceLROnPlateau\n",
    "from tensorflow.keras import layers\n",
    "from tensorflow.keras.layers import Conv2D, MaxPooling2D, Flatten\n",
    "\n",
    "from sklearn.metrics import confusion_matrix\n",
    "import itertools\n",
    "import matplotlib.pyplot as plt\n",
    "\n",
    "import warnings\n",
    "warnings.filterwarnings(\"ignore\")"
   ]
  },
  {
   "cell_type": "code",
   "execution_count": 2,
   "metadata": {},
   "outputs": [
    {
     "data": {
      "text/html": [
       "<div>\n",
       "<style scoped>\n",
       "    .dataframe tbody tr th:only-of-type {\n",
       "        vertical-align: middle;\n",
       "    }\n",
       "\n",
       "    .dataframe tbody tr th {\n",
       "        vertical-align: top;\n",
       "    }\n",
       "\n",
       "    .dataframe thead th {\n",
       "        text-align: right;\n",
       "    }\n",
       "</style>\n",
       "<table border=\"1\" class=\"dataframe\">\n",
       "  <thead>\n",
       "    <tr style=\"text-align: right;\">\n",
       "      <th></th>\n",
       "      <th>lesion_id</th>\n",
       "      <th>image_id</th>\n",
       "      <th>dx</th>\n",
       "      <th>dx_type</th>\n",
       "      <th>age</th>\n",
       "      <th>sex</th>\n",
       "      <th>localization</th>\n",
       "    </tr>\n",
       "  </thead>\n",
       "  <tbody>\n",
       "    <tr>\n",
       "      <th>0</th>\n",
       "      <td>HAM_0000118</td>\n",
       "      <td>ISIC_0027419</td>\n",
       "      <td>bkl</td>\n",
       "      <td>histo</td>\n",
       "      <td>80.0</td>\n",
       "      <td>male</td>\n",
       "      <td>scalp</td>\n",
       "    </tr>\n",
       "    <tr>\n",
       "      <th>1</th>\n",
       "      <td>HAM_0000118</td>\n",
       "      <td>ISIC_0025030</td>\n",
       "      <td>bkl</td>\n",
       "      <td>histo</td>\n",
       "      <td>80.0</td>\n",
       "      <td>male</td>\n",
       "      <td>scalp</td>\n",
       "    </tr>\n",
       "    <tr>\n",
       "      <th>2</th>\n",
       "      <td>HAM_0002730</td>\n",
       "      <td>ISIC_0026769</td>\n",
       "      <td>bkl</td>\n",
       "      <td>histo</td>\n",
       "      <td>80.0</td>\n",
       "      <td>male</td>\n",
       "      <td>scalp</td>\n",
       "    </tr>\n",
       "    <tr>\n",
       "      <th>3</th>\n",
       "      <td>HAM_0002730</td>\n",
       "      <td>ISIC_0025661</td>\n",
       "      <td>bkl</td>\n",
       "      <td>histo</td>\n",
       "      <td>80.0</td>\n",
       "      <td>male</td>\n",
       "      <td>scalp</td>\n",
       "    </tr>\n",
       "    <tr>\n",
       "      <th>4</th>\n",
       "      <td>HAM_0001466</td>\n",
       "      <td>ISIC_0031633</td>\n",
       "      <td>bkl</td>\n",
       "      <td>histo</td>\n",
       "      <td>75.0</td>\n",
       "      <td>male</td>\n",
       "      <td>ear</td>\n",
       "    </tr>\n",
       "    <tr>\n",
       "      <th>5</th>\n",
       "      <td>HAM_0001466</td>\n",
       "      <td>ISIC_0027850</td>\n",
       "      <td>bkl</td>\n",
       "      <td>histo</td>\n",
       "      <td>75.0</td>\n",
       "      <td>male</td>\n",
       "      <td>ear</td>\n",
       "    </tr>\n",
       "    <tr>\n",
       "      <th>6</th>\n",
       "      <td>HAM_0002761</td>\n",
       "      <td>ISIC_0029176</td>\n",
       "      <td>bkl</td>\n",
       "      <td>histo</td>\n",
       "      <td>60.0</td>\n",
       "      <td>male</td>\n",
       "      <td>face</td>\n",
       "    </tr>\n",
       "    <tr>\n",
       "      <th>7</th>\n",
       "      <td>HAM_0002761</td>\n",
       "      <td>ISIC_0029068</td>\n",
       "      <td>bkl</td>\n",
       "      <td>histo</td>\n",
       "      <td>60.0</td>\n",
       "      <td>male</td>\n",
       "      <td>face</td>\n",
       "    </tr>\n",
       "    <tr>\n",
       "      <th>8</th>\n",
       "      <td>HAM_0005132</td>\n",
       "      <td>ISIC_0025837</td>\n",
       "      <td>bkl</td>\n",
       "      <td>histo</td>\n",
       "      <td>70.0</td>\n",
       "      <td>female</td>\n",
       "      <td>back</td>\n",
       "    </tr>\n",
       "    <tr>\n",
       "      <th>9</th>\n",
       "      <td>HAM_0005132</td>\n",
       "      <td>ISIC_0025209</td>\n",
       "      <td>bkl</td>\n",
       "      <td>histo</td>\n",
       "      <td>70.0</td>\n",
       "      <td>female</td>\n",
       "      <td>back</td>\n",
       "    </tr>\n",
       "  </tbody>\n",
       "</table>\n",
       "</div>"
      ],
      "text/plain": [
       "     lesion_id      image_id   dx dx_type   age     sex localization\n",
       "0  HAM_0000118  ISIC_0027419  bkl   histo  80.0    male        scalp\n",
       "1  HAM_0000118  ISIC_0025030  bkl   histo  80.0    male        scalp\n",
       "2  HAM_0002730  ISIC_0026769  bkl   histo  80.0    male        scalp\n",
       "3  HAM_0002730  ISIC_0025661  bkl   histo  80.0    male        scalp\n",
       "4  HAM_0001466  ISIC_0031633  bkl   histo  75.0    male          ear\n",
       "5  HAM_0001466  ISIC_0027850  bkl   histo  75.0    male          ear\n",
       "6  HAM_0002761  ISIC_0029176  bkl   histo  60.0    male         face\n",
       "7  HAM_0002761  ISIC_0029068  bkl   histo  60.0    male         face\n",
       "8  HAM_0005132  ISIC_0025837  bkl   histo  70.0  female         back\n",
       "9  HAM_0005132  ISIC_0025209  bkl   histo  70.0  female         back"
      ]
     },
     "execution_count": 2,
     "metadata": {},
     "output_type": "execute_result"
    }
   ],
   "source": [
    "df = pd.read_csv('skinCancer/HAM10000_metadata_Incereased.csv')\n",
    "df.head(10)"
   ]
  },
  {
   "cell_type": "code",
   "execution_count": 3,
   "metadata": {},
   "outputs": [
    {
     "data": {
      "text/plain": [
       "lesion_id         0\n",
       "image_id          0\n",
       "dx                0\n",
       "dx_type           0\n",
       "age             119\n",
       "sex               0\n",
       "localization      0\n",
       "dtype: int64"
      ]
     },
     "execution_count": 3,
     "metadata": {},
     "output_type": "execute_result"
    }
   ],
   "source": [
    "df.isnull().sum()"
   ]
  },
  {
   "cell_type": "code",
   "execution_count": 4,
   "metadata": {},
   "outputs": [
    {
     "data": {
      "text/plain": [
       "lesion_id       49517\n",
       "image_id        49517\n",
       "dx              49517\n",
       "dx_type         49517\n",
       "age             49398\n",
       "sex             49517\n",
       "localization    49517\n",
       "dtype: int64"
      ]
     },
     "execution_count": 4,
     "metadata": {},
     "output_type": "execute_result"
    }
   ],
   "source": [
    "df.count()"
   ]
  },
  {
   "cell_type": "code",
   "execution_count": 5,
   "metadata": {},
   "outputs": [
    {
     "data": {
      "text/plain": [
       "lesion_id       0\n",
       "image_id        0\n",
       "dx              0\n",
       "dx_type         0\n",
       "age             0\n",
       "sex             0\n",
       "localization    0\n",
       "dtype: int64"
      ]
     },
     "execution_count": 5,
     "metadata": {},
     "output_type": "execute_result"
    }
   ],
   "source": [
    "df['age'].fillna(int(df['age'].mean()),inplace=True)\n",
    "df.isnull().sum()"
   ]
  },
  {
   "cell_type": "code",
   "execution_count": 6,
   "metadata": {},
   "outputs": [],
   "source": [
    "lesion_type_dict = {\n",
    "    'nv': 'Melanocytic nevi',\n",
    "    'mel': 'Melanoma',\n",
    "    'bkl': 'Benign keratosis-like lesions ',\n",
    "    'bcc': 'Basal cell carcinoma',\n",
    "    'akiec': 'Actinic keratoses',\n",
    "    'vasc': 'Vascular lesions',\n",
    "    'df': 'Dermatofibroma'\n",
    "}\n",
    "base_skin_dir = 'skinCancer'\n",
    "\n",
    "imageid_path_dict = {os.path.splitext(os.path.basename(x))[0]: x\n",
    "                     for x in glob(os.path.join(base_skin_dir, '*', '*.jpg'))}"
   ]
  },
  {
   "cell_type": "code",
   "execution_count": 7,
   "metadata": {},
   "outputs": [
    {
     "data": {
      "text/html": [
       "<div>\n",
       "<style scoped>\n",
       "    .dataframe tbody tr th:only-of-type {\n",
       "        vertical-align: middle;\n",
       "    }\n",
       "\n",
       "    .dataframe tbody tr th {\n",
       "        vertical-align: top;\n",
       "    }\n",
       "\n",
       "    .dataframe thead th {\n",
       "        text-align: right;\n",
       "    }\n",
       "</style>\n",
       "<table border=\"1\" class=\"dataframe\">\n",
       "  <thead>\n",
       "    <tr style=\"text-align: right;\">\n",
       "      <th></th>\n",
       "      <th>lesion_id</th>\n",
       "      <th>image_id</th>\n",
       "      <th>dx</th>\n",
       "      <th>dx_type</th>\n",
       "      <th>age</th>\n",
       "      <th>sex</th>\n",
       "      <th>localization</th>\n",
       "      <th>path</th>\n",
       "      <th>cell_type</th>\n",
       "      <th>cell_type_idx</th>\n",
       "    </tr>\n",
       "  </thead>\n",
       "  <tbody>\n",
       "    <tr>\n",
       "      <th>0</th>\n",
       "      <td>HAM_0000118</td>\n",
       "      <td>ISIC_0027419</td>\n",
       "      <td>bkl</td>\n",
       "      <td>histo</td>\n",
       "      <td>80.0</td>\n",
       "      <td>male</td>\n",
       "      <td>scalp</td>\n",
       "      <td>skinCancer\\HAM10000_images_part_1\\ISIC_0027419...</td>\n",
       "      <td>Benign keratosis-like lesions</td>\n",
       "      <td>2</td>\n",
       "    </tr>\n",
       "    <tr>\n",
       "      <th>1</th>\n",
       "      <td>HAM_0000118</td>\n",
       "      <td>ISIC_0025030</td>\n",
       "      <td>bkl</td>\n",
       "      <td>histo</td>\n",
       "      <td>80.0</td>\n",
       "      <td>male</td>\n",
       "      <td>scalp</td>\n",
       "      <td>skinCancer\\HAM10000_images_part_1\\ISIC_0025030...</td>\n",
       "      <td>Benign keratosis-like lesions</td>\n",
       "      <td>2</td>\n",
       "    </tr>\n",
       "    <tr>\n",
       "      <th>2</th>\n",
       "      <td>HAM_0002730</td>\n",
       "      <td>ISIC_0026769</td>\n",
       "      <td>bkl</td>\n",
       "      <td>histo</td>\n",
       "      <td>80.0</td>\n",
       "      <td>male</td>\n",
       "      <td>scalp</td>\n",
       "      <td>skinCancer\\HAM10000_images_part_1\\ISIC_0026769...</td>\n",
       "      <td>Benign keratosis-like lesions</td>\n",
       "      <td>2</td>\n",
       "    </tr>\n",
       "    <tr>\n",
       "      <th>3</th>\n",
       "      <td>HAM_0002730</td>\n",
       "      <td>ISIC_0025661</td>\n",
       "      <td>bkl</td>\n",
       "      <td>histo</td>\n",
       "      <td>80.0</td>\n",
       "      <td>male</td>\n",
       "      <td>scalp</td>\n",
       "      <td>skinCancer\\HAM10000_images_part_1\\ISIC_0025661...</td>\n",
       "      <td>Benign keratosis-like lesions</td>\n",
       "      <td>2</td>\n",
       "    </tr>\n",
       "    <tr>\n",
       "      <th>4</th>\n",
       "      <td>HAM_0001466</td>\n",
       "      <td>ISIC_0031633</td>\n",
       "      <td>bkl</td>\n",
       "      <td>histo</td>\n",
       "      <td>75.0</td>\n",
       "      <td>male</td>\n",
       "      <td>ear</td>\n",
       "      <td>skinCancer\\HAM10000_images_part_2\\ISIC_0031633...</td>\n",
       "      <td>Benign keratosis-like lesions</td>\n",
       "      <td>2</td>\n",
       "    </tr>\n",
       "  </tbody>\n",
       "</table>\n",
       "</div>"
      ],
      "text/plain": [
       "     lesion_id      image_id   dx dx_type   age   sex localization  \\\n",
       "0  HAM_0000118  ISIC_0027419  bkl   histo  80.0  male        scalp   \n",
       "1  HAM_0000118  ISIC_0025030  bkl   histo  80.0  male        scalp   \n",
       "2  HAM_0002730  ISIC_0026769  bkl   histo  80.0  male        scalp   \n",
       "3  HAM_0002730  ISIC_0025661  bkl   histo  80.0  male        scalp   \n",
       "4  HAM_0001466  ISIC_0031633  bkl   histo  75.0  male          ear   \n",
       "\n",
       "                                                path  \\\n",
       "0  skinCancer\\HAM10000_images_part_1\\ISIC_0027419...   \n",
       "1  skinCancer\\HAM10000_images_part_1\\ISIC_0025030...   \n",
       "2  skinCancer\\HAM10000_images_part_1\\ISIC_0026769...   \n",
       "3  skinCancer\\HAM10000_images_part_1\\ISIC_0025661...   \n",
       "4  skinCancer\\HAM10000_images_part_2\\ISIC_0031633...   \n",
       "\n",
       "                        cell_type  cell_type_idx  \n",
       "0  Benign keratosis-like lesions               2  \n",
       "1  Benign keratosis-like lesions               2  \n",
       "2  Benign keratosis-like lesions               2  \n",
       "3  Benign keratosis-like lesions               2  \n",
       "4  Benign keratosis-like lesions               2  "
      ]
     },
     "execution_count": 7,
     "metadata": {},
     "output_type": "execute_result"
    }
   ],
   "source": [
    "df['path'] = df['image_id'].map(imageid_path_dict.get)\n",
    "df['cell_type'] = df['dx'].map(lesion_type_dict.get) \n",
    "df['cell_type_idx'] = pd.Categorical(df['cell_type']).codes\n",
    "df.head()"
   ]
  },
  {
   "cell_type": "code",
   "execution_count": 8,
   "metadata": {},
   "outputs": [],
   "source": [
    "df['image'] = df['path'].map(lambda x: np.asarray(Image.open(x).resize((125,100))))"
   ]
  },
  {
   "cell_type": "code",
   "execution_count": 9,
   "metadata": {},
   "outputs": [
    {
     "data": {
      "text/plain": [
       "<AxesSubplot:title={'center':'CELL TYPE'}, ylabel='Count'>"
      ]
     },
     "execution_count": 9,
     "metadata": {},
     "output_type": "execute_result"
    },
    {
     "data": {
      "image/png": "[encoded data removed]",
      "text/plain": [
       "<Figure size 1440x720 with 4 Axes>"
      ]
     },
     "metadata": {
      "needs_background": "light"
     },
     "output_type": "display_data"
    }
   ],
   "source": [
    "plt.figure(figsize=(20,10))\n",
    "plt.subplots_adjust(left=0.125, bottom=1, right=0.9, top=2, hspace=0.2)\n",
    "plt.subplot(2,4,1)\n",
    "plt.title(\"AGE\",fontsize=15)\n",
    "plt.ylabel(\"Count\")\n",
    "df['age'].value_counts().plot.bar()\n",
    "\n",
    "plt.subplot(2,4,2)\n",
    "plt.title(\"GENDER\",fontsize=15)\n",
    "plt.ylabel(\"Count\")\n",
    "df['sex'].value_counts().plot.bar()\n",
    "\n",
    "plt.subplot(2,4,3)\n",
    "plt.title(\"localization\",fontsize=15)\n",
    "plt.ylabel(\"Count\")\n",
    "plt.xticks(rotation=45)\n",
    "df['localization'].value_counts().plot.bar()\n",
    "\n",
    "plt.subplot(2,4,4)\n",
    "plt.title(\"CELL TYPE\",fontsize=15)\n",
    "plt.ylabel(\"Count\")\n",
    "df['cell_type'].value_counts().plot.bar()"
   ]
  },
  {
   "cell_type": "code",
   "execution_count": 10,
   "metadata": {},
   "outputs": [
    {
     "data": {
      "image/png": "[encoded data removed]",
      "text/plain": [
       "<Figure size 1080x720 with 2 Axes>"
      ]
     },
     "metadata": {},
     "output_type": "display_data"
    }
   ],
   "source": [
    "plt.figure(figsize=(15,10))\n",
    "plt.subplot(1,2,1)\n",
    "df['dx'].value_counts().plot.pie(autopct=\"%1.1f%%\")\n",
    "plt.subplot(1,2,2)\n",
    "df['dx_type'].value_counts().plot.pie(autopct=\"%1.1f%%\")\n",
    "plt.show()"
   ]
  },
  {
   "cell_type": "code",
   "execution_count": 11,
   "metadata": {},
   "outputs": [
    {
     "data": {
      "text/html": [
       "<div>\n",
       "<style scoped>\n",
       "    .dataframe tbody tr th:only-of-type {\n",
       "        vertical-align: middle;\n",
       "    }\n",
       "\n",
       "    .dataframe tbody tr th {\n",
       "        vertical-align: top;\n",
       "    }\n",
       "\n",
       "    .dataframe thead th {\n",
       "        text-align: right;\n",
       "    }\n",
       "</style>\n",
       "<table border=\"1\" class=\"dataframe\">\n",
       "  <thead>\n",
       "    <tr style=\"text-align: right;\">\n",
       "      <th></th>\n",
       "      <th>lesion_id</th>\n",
       "      <th>dx</th>\n",
       "      <th>dx_type</th>\n",
       "      <th>age</th>\n",
       "      <th>sex</th>\n",
       "      <th>localization</th>\n",
       "      <th>path</th>\n",
       "      <th>cell_type</th>\n",
       "      <th>image</th>\n",
       "    </tr>\n",
       "  </thead>\n",
       "  <tbody>\n",
       "    <tr>\n",
       "      <th>0</th>\n",
       "      <td>HAM_0000118</td>\n",
       "      <td>bkl</td>\n",
       "      <td>histo</td>\n",
       "      <td>80.0</td>\n",
       "      <td>male</td>\n",
       "      <td>scalp</td>\n",
       "      <td>skinCancer\\HAM10000_images_part_1\\ISIC_0027419...</td>\n",
       "      <td>Benign keratosis-like lesions</td>\n",
       "      <td>[[[189, 152, 194], [192, 156, 198], [191, 154,...</td>\n",
       "    </tr>\n",
       "    <tr>\n",
       "      <th>1</th>\n",
       "      <td>HAM_0000118</td>\n",
       "      <td>bkl</td>\n",
       "      <td>histo</td>\n",
       "      <td>80.0</td>\n",
       "      <td>male</td>\n",
       "      <td>scalp</td>\n",
       "      <td>skinCancer\\HAM10000_images_part_1\\ISIC_0025030...</td>\n",
       "      <td>Benign keratosis-like lesions</td>\n",
       "      <td>[[[24, 13, 22], [24, 14, 22], [24, 14, 26], [2...</td>\n",
       "    </tr>\n",
       "    <tr>\n",
       "      <th>2</th>\n",
       "      <td>HAM_0002730</td>\n",
       "      <td>bkl</td>\n",
       "      <td>histo</td>\n",
       "      <td>80.0</td>\n",
       "      <td>male</td>\n",
       "      <td>scalp</td>\n",
       "      <td>skinCancer\\HAM10000_images_part_1\\ISIC_0026769...</td>\n",
       "      <td>Benign keratosis-like lesions</td>\n",
       "      <td>[[[186, 127, 135], [189, 133, 145], [192, 135,...</td>\n",
       "    </tr>\n",
       "    <tr>\n",
       "      <th>3</th>\n",
       "      <td>HAM_0002730</td>\n",
       "      <td>bkl</td>\n",
       "      <td>histo</td>\n",
       "      <td>80.0</td>\n",
       "      <td>male</td>\n",
       "      <td>scalp</td>\n",
       "      <td>skinCancer\\HAM10000_images_part_1\\ISIC_0025661...</td>\n",
       "      <td>Benign keratosis-like lesions</td>\n",
       "      <td>[[[24, 11, 17], [24, 11, 20], [30, 15, 25], [4...</td>\n",
       "    </tr>\n",
       "    <tr>\n",
       "      <th>4</th>\n",
       "      <td>HAM_0001466</td>\n",
       "      <td>bkl</td>\n",
       "      <td>histo</td>\n",
       "      <td>75.0</td>\n",
       "      <td>male</td>\n",
       "      <td>ear</td>\n",
       "      <td>skinCancer\\HAM10000_images_part_2\\ISIC_0031633...</td>\n",
       "      <td>Benign keratosis-like lesions</td>\n",
       "      <td>[[[131, 88, 110], [142, 97, 120], [152, 107, 1...</td>\n",
       "    </tr>\n",
       "  </tbody>\n",
       "</table>\n",
       "</div>"
      ],
      "text/plain": [
       "     lesion_id   dx dx_type   age   sex localization  \\\n",
       "0  HAM_0000118  bkl   histo  80.0  male        scalp   \n",
       "1  HAM_0000118  bkl   histo  80.0  male        scalp   \n",
       "2  HAM_0002730  bkl   histo  80.0  male        scalp   \n",
       "3  HAM_0002730  bkl   histo  80.0  male        scalp   \n",
       "4  HAM_0001466  bkl   histo  75.0  male          ear   \n",
       "\n",
       "                                                path  \\\n",
       "0  skinCancer\\HAM10000_images_part_1\\ISIC_0027419...   \n",
       "1  skinCancer\\HAM10000_images_part_1\\ISIC_0025030...   \n",
       "2  skinCancer\\HAM10000_images_part_1\\ISIC_0026769...   \n",
       "3  skinCancer\\HAM10000_images_part_1\\ISIC_0025661...   \n",
       "4  skinCancer\\HAM10000_images_part_2\\ISIC_0031633...   \n",
       "\n",
       "                        cell_type  \\\n",
       "0  Benign keratosis-like lesions    \n",
       "1  Benign keratosis-like lesions    \n",
       "2  Benign keratosis-like lesions    \n",
       "3  Benign keratosis-like lesions    \n",
       "4  Benign keratosis-like lesions    \n",
       "\n",
       "                                               image  \n",
       "0  [[[189, 152, 194], [192, 156, 198], [191, 154,...  \n",
       "1  [[[24, 13, 22], [24, 14, 22], [24, 14, 26], [2...  \n",
       "2  [[[186, 127, 135], [189, 133, 145], [192, 135,...  \n",
       "3  [[[24, 11, 17], [24, 11, 20], [30, 15, 25], [4...  \n",
       "4  [[[131, 88, 110], [142, 97, 120], [152, 107, 1...  "
      ]
     },
     "execution_count": 11,
     "metadata": {},
     "output_type": "execute_result"
    }
   ],
   "source": [
    "features=df.drop(columns=['cell_type_idx','image_id'],axis=1)\n",
    "target=df['cell_type_idx']\n",
    "features.head()"
   ]
  },
  {
   "cell_type": "code",
   "execution_count": 12,
   "metadata": {},
   "outputs": [
    {
     "data": {
      "text/plain": [
       "Unique(y=<tf.Tensor: shape=(7,), dtype=string, numpy=\n",
       "array([b'Actinic keratoses', b'Basal cell carcinoma', b'Dermatofibroma',\n",
       "       b'Melanoma', b'Benign keratosis-like lesions ',\n",
       "       b'Melanocytic nevi', b'Vascular lesions'], dtype=object)>, idx=<tf.Tensor: shape=(37137,), dtype=int32, numpy=array([0, 1, 1, ..., 1, 1, 6])>)"
      ]
     },
     "execution_count": 12,
     "metadata": {},
     "output_type": "execute_result"
    }
   ],
   "source": [
    "x_train_o, x_test_o, y_train_o, y_test_o = train_test_split(features, target, test_size = 0.25,random_state=666)\n",
    "tf.unique(x_train_o.cell_type.values)"
   ]
  },
  {
   "cell_type": "code",
   "execution_count": 13,
   "metadata": {},
   "outputs": [],
   "source": [
    "x_train = np.asarray(x_train_o['image'].tolist())\n",
    "x_test = np.asarray(x_test_o['image'].tolist())\n",
    "\n",
    "x_train_mean = np.mean(x_train)\n",
    "x_train_std = np.std(x_train)\n",
    "\n",
    "\n",
    "x_test_mean = np.mean(x_test)\n",
    "x_test_std = np.std(x_test)\n",
    "\n",
    "x_train = (x_train - x_train_mean)/x_train_std\n",
    "x_test = (x_test - x_test_mean)/x_test_std"
   ]
  },
  {
   "cell_type": "code",
   "execution_count": 14,
   "metadata": {},
   "outputs": [
    {
     "data": {
      "text/plain": [
       "array([[0., 0., 0., ..., 0., 1., 0.],\n",
       "       [0., 0., 0., ..., 0., 0., 0.],\n",
       "       [0., 0., 0., ..., 0., 0., 1.],\n",
       "       ...,\n",
       "       [0., 0., 0., ..., 0., 0., 0.],\n",
       "       [0., 0., 0., ..., 0., 0., 1.],\n",
       "       [0., 0., 0., ..., 0., 0., 0.]], dtype=float32)"
      ]
     },
     "execution_count": 14,
     "metadata": {},
     "output_type": "execute_result"
    }
   ],
   "source": [
    "# Perform one-hot encoding on the labels\n",
    "y_train = to_categorical(y_train_o, num_classes = 7)\n",
    "y_test = to_categorical(y_test_o, num_classes = 7)\n",
    "y_test"
   ]
  },
  {
   "cell_type": "code",
   "execution_count": 15,
   "metadata": {},
   "outputs": [
    {
     "data": {
      "text/plain": [
       "array([0., 0., 0., 1., 0., 0., 0.], dtype=float32)"
      ]
     },
     "execution_count": 15,
     "metadata": {},
     "output_type": "execute_result"
    }
   ],
   "source": [
    "y_test[1]"
   ]
  },
  {
   "cell_type": "code",
   "execution_count": 16,
   "metadata": {},
   "outputs": [
    {
     "data": {
      "text/plain": [
       "array([[1., 0., 0., ..., 0., 0., 0.],\n",
       "       [0., 1., 0., ..., 0., 0., 0.],\n",
       "       [0., 1., 0., ..., 0., 0., 0.],\n",
       "       ...,\n",
       "       [0., 1., 0., ..., 0., 0., 0.],\n",
       "       [0., 1., 0., ..., 0., 0., 0.],\n",
       "       [0., 0., 0., ..., 0., 0., 1.]], dtype=float32)"
      ]
     },
     "execution_count": 16,
     "metadata": {},
     "output_type": "execute_result"
    }
   ],
   "source": [
    "y_train"
   ]
  },
  {
   "cell_type": "code",
   "execution_count": 17,
   "metadata": {},
   "outputs": [
    {
     "data": {
      "text/plain": [
       "5    1924\n",
       "3    1907\n",
       "1    1750\n",
       "0    1730\n",
       "6    1697\n",
       "2    1689\n",
       "4    1683\n",
       "Name: cell_type_idx, dtype: int64"
      ]
     },
     "execution_count": 17,
     "metadata": {},
     "output_type": "execute_result"
    }
   ],
   "source": [
    "y_test_o.value_counts()"
   ]
  },
  {
   "cell_type": "code",
   "execution_count": 18,
   "metadata": {},
   "outputs": [],
   "source": [
    "# x_train, x_validate, y_train, y_validate = train_test_split(x_train, y_train, test_size = 0.2, random_state = 20)\n",
    "\n",
    "\n",
    "# Reshape image in 3 dimensions (height = 100, width = 125 , canal = 3)\n",
    "x_train = x_train.reshape(x_train_o.shape[0], *(100, 125, 3))\n",
    "x_test = x_test.reshape(x_test_o.shape[0], *(100, 125, 3))\n"
   ]
  },
  {
   "cell_type": "code",
   "execution_count": 19,
   "metadata": {},
   "outputs": [
    {
     "name": "stdout",
     "output_type": "stream",
     "text": [
      "(37137, 37500)\n",
      "(12380, 37500)\n"
     ]
    }
   ],
   "source": [
    "x_train = x_train.reshape(x_train.shape[0],125*100*3)\n",
    "x_test = x_test.reshape(x_test.shape[0],125*100*3)\n",
    "print(x_train.shape)\n",
    "print(x_test.shape)"
   ]
  },
  {
   "cell_type": "code",
   "execution_count": 20,
   "metadata": {},
   "outputs": [
    {
     "name": "stdout",
     "output_type": "stream",
     "text": [
      "[[ 0.67592044 -0.3525907   0.07794885 ...  0.96294681  0.12578657\n",
      "   0.31713748]\n",
      " [-0.04164547 -0.85488684 -1.54853389 ...  0.1736243  -0.6874548\n",
      "  -1.14191321]\n",
      " [ 0.07794885 -1.33326412 -1.45285844 ...  0.60416385 -0.23299638\n",
      "  -0.16123979]\n",
      " ...\n",
      " [-2.93582799 -3.31852981 -2.79231481 ... -3.17501663 -3.41420527\n",
      "  -3.03150345]\n",
      " [ 0.53240726 -0.63961707 -0.71137366 ...  0.19754317 -1.02231889\n",
      "  -1.14191321]\n",
      " [ 0.93902794 -0.30475297  0.19754317 ...  0.65200158 -0.63961707\n",
      "  -0.23299638]]\n"
     ]
    }
   ],
   "source": [
    "print(x_train)"
   ]
  },
  {
   "cell_type": "markdown",
   "metadata": {},
   "source": [
    "### Decision Tree"
   ]
  },
  {
   "cell_type": "code",
   "execution_count": 24,
   "metadata": {},
   "outputs": [
    {
     "name": "stdout",
     "output_type": "stream",
     "text": [
      "1\n",
      "6\n",
      "11\n",
      "16\n",
      "21\n",
      "26\n",
      "31\n",
      "36\n",
      "41\n",
      "46\n"
     ]
    },
    {
     "data": {
      "text/plain": [
       "<matplotlib.legend.Legend at 0x14e31eaed90>"
      ]
     },
     "execution_count": 24,
     "metadata": {},
     "output_type": "execute_result"
    },
    {
     "data": {
      "image/png": "[encoded data removed]",
      "text/plain": [
       "<Figure size 432x288 with 1 Axes>"
      ]
     },
     "metadata": {
      "needs_background": "light"
     },
     "output_type": "display_data"
    }
   ],
   "source": [
    "depth = range(1,51,5)\n",
    "testing_accuracy = []\n",
    "training_accuracy = []\n",
    "score = 0\n",
    "\n",
    "for i in depth:\n",
    "    tree = DecisionTreeClassifier(max_depth = i, criterion = 'entropy')\n",
    "    tree.fit(x_train, y_train)\n",
    "    \n",
    "    y_predict_train = tree.predict(x_train)\n",
    "    training_accuracy.append(accuracy_score(y_train, y_predict_train))\n",
    "    \n",
    "    y_predict_test = tree.predict(x_test)\n",
    "    acc_score = accuracy_score(y_test,y_predict_test)\n",
    "    testing_accuracy.append(acc_score)\n",
    "    \n",
    "    print(i)\n",
    "\n",
    "    if score < acc_score:\n",
    "        score = acc_score\n",
    "        best_depth = i\n",
    "        \n",
    "sns.lineplot(depth, training_accuracy)\n",
    "sns.scatterplot(depth, training_accuracy)\n",
    "sns.lineplot(depth, testing_accuracy)\n",
    "sns.scatterplot(depth, testing_accuracy)\n",
    "plt.legend(['training accuracy', 'testing accuracy'])"
   ]
  },
  {
   "cell_type": "code",
   "execution_count": 25,
   "metadata": {},
   "outputs": [
    {
     "name": "stdout",
     "output_type": "stream",
     "text": [
      "This is the best depth for Decision Tree Classifier:  36 \n",
      "Accuracy score is:  0.9651050080775444\n",
      "Confusion Matrix: \n",
      " [[1702    0    7    0   21    0    0]\n",
      " [   0 1736    0    0   11    0    3]\n",
      " [   0    0 1689    0    0    0    0]\n",
      " [   0    0    0 1907    0    0    0]\n",
      " [  22   41  126    7 1284  176   27]\n",
      " [   0    0    2    0    0 1922    0]\n",
      " [   0    0    0    0    0    0 1697]]\n",
      "Classification Report: \n",
      "               precision    recall  f1-score   support\n",
      "\n",
      "           0       0.99      0.98      0.99      1730\n",
      "           1       0.98      0.99      0.98      1750\n",
      "           2       0.93      1.00      0.96      1689\n",
      "           3       1.00      1.00      1.00      1907\n",
      "           4       0.98      0.76      0.86      1683\n",
      "           5       0.92      1.00      0.96      1924\n",
      "           6       0.98      1.00      0.99      1697\n",
      "\n",
      "    accuracy                           0.96     12380\n",
      "   macro avg       0.97      0.96      0.96     12380\n",
      "weighted avg       0.97      0.96      0.96     12380\n",
      "\n"
     ]
    }
   ],
   "source": [
    "print('This is the best depth for Decision Tree Classifier: ', best_depth, '\\nAccuracy score is: ', score)\n",
    "result = confusion_matrix(y_test.argmax(axis=1), y_predict_test.argmax(axis=1),)\n",
    "print(\"Confusion Matrix:\",\"\\n\", result)\n",
    "report = classification_report(y_test.argmax(axis=1), y_predict_test.argmax(axis=1),)\n",
    "print(\"Classification Report:\" , \"\\n\", report)"
   ]
  },
  {
   "cell_type": "markdown",
   "metadata": {},
   "source": [
    "### Random Forest"
   ]
  },
  {
   "cell_type": "code",
   "execution_count": 26,
   "metadata": {},
   "outputs": [
    {
     "name": "stdout",
     "output_type": "stream",
     "text": [
      "5\n",
      "10\n",
      "15\n",
      "20\n",
      "25\n",
      "30\n",
      "35\n",
      "40\n",
      "45\n",
      "50\n"
     ]
    },
    {
     "data": {
      "text/plain": [
       "<matplotlib.legend.Legend at 0x14e31f2f880>"
      ]
     },
     "execution_count": 26,
     "metadata": {},
     "output_type": "execute_result"
    },
    {
     "data": {
      "image/png": "[encoded data removed]",
      "text/plain": [
       "<Figure size 432x288 with 1 Axes>"
      ]
     },
     "metadata": {
      "needs_background": "light"
     },
     "output_type": "display_data"
    }
   ],
   "source": [
    "#random Forest\n",
    "depth = range(5,51,5)\n",
    "testing_accuracy = []\n",
    "training_accuracy = []\n",
    "score = 0\n",
    "\n",
    "for i in depth:\n",
    "    tree = RandomForestClassifier(max_depth = i, criterion = 'gini', random_state=6)\n",
    "    tree.fit(x_train, y_train)\n",
    "    \n",
    "    y_predict_train = tree.predict(x_train)\n",
    "    training_accuracy.append(accuracy_score(y_train, y_predict_train))\n",
    "    \n",
    "    y_predict_test = tree.predict(x_test)\n",
    "    acc_score = accuracy_score(y_test,y_predict_test)\n",
    "    testing_accuracy.append(acc_score)\n",
    "    \n",
    "    print(i)\n",
    "\n",
    "    if score < acc_score:\n",
    "        score = acc_score\n",
    "        best_depth = i\n",
    "        \n",
    "sns.lineplot(depth, training_accuracy)\n",
    "sns.scatterplot(depth, training_accuracy)\n",
    "sns.lineplot(depth, testing_accuracy)\n",
    "sns.scatterplot(depth, testing_accuracy)\n",
    "plt.legend(['training accuracy', 'testing accuracy'])"
   ]
  },
  {
   "cell_type": "code",
   "execution_count": 27,
   "metadata": {},
   "outputs": [
    {
     "name": "stdout",
     "output_type": "stream",
     "text": [
      "This is the best depth for Decision Tree Classifier:  30 \n",
      "Accuracy score is:  0.9652665589660743\n",
      "Confusion Matrix: \n",
      " [[1730    0    0    0    0    0    0]\n",
      " [   0 1750    0    0    0    0    0]\n",
      " [   0    0 1689    0    0    0    0]\n",
      " [   0    0    0 1907    0    0    0]\n",
      " [ 398    3   15    0 1245   22    0]\n",
      " [   0    0    0    0    0 1924    0]\n",
      " [   0    0    0    0    0    0 1697]]\n",
      "Classification Report: \n",
      "               precision    recall  f1-score   support\n",
      "\n",
      "           0       0.81      1.00      0.90      1730\n",
      "           1       1.00      1.00      1.00      1750\n",
      "           2       0.99      1.00      1.00      1689\n",
      "           3       1.00      1.00      1.00      1907\n",
      "           4       1.00      0.74      0.85      1683\n",
      "           5       0.99      1.00      0.99      1924\n",
      "           6       1.00      1.00      1.00      1697\n",
      "\n",
      "    accuracy                           0.96     12380\n",
      "   macro avg       0.97      0.96      0.96     12380\n",
      "weighted avg       0.97      0.96      0.96     12380\n",
      "\n"
     ]
    }
   ],
   "source": [
    "print('This is the best depth for Decision Tree Classifier: ', best_depth, '\\nAccuracy score is: ', score)\n",
    "result = confusion_matrix(y_test.argmax(axis=1), y_predict_test.argmax(axis=1),)\n",
    "print(\"Confusion Matrix:\",\"\\n\", result)\n",
    "report = classification_report(y_test.argmax(axis=1), y_predict_test.argmax(axis=1),)\n",
    "print(\"Classification Report:\" , \"\\n\", report)"
   ]
  },
  {
   "cell_type": "markdown",
   "metadata": {},
   "source": [
    "### KNN"
   ]
  },
  {
   "cell_type": "code",
   "execution_count": null,
   "metadata": {},
   "outputs": [
    {
     "name": "stdout",
     "output_type": "stream",
     "text": [
      "1\n",
      "3\n",
      "5\n",
      "7\n",
      "9\n",
      "11\n",
      "13\n",
      "15\n",
      "17\n",
      "19\n",
      "21\n",
      "23\n",
      "25\n",
      "27\n",
      "29\n",
      "31\n",
      "33\n",
      "35\n",
      "37\n",
      "39\n",
      "41\n",
      "43\n",
      "45\n",
      "47\n",
      "49\n",
      "51\n",
      "53\n",
      "55\n",
      "57\n",
      "59\n",
      "61\n",
      "63\n",
      "65\n",
      "67\n",
      "69\n",
      "71\n",
      "73\n",
      "75\n",
      "77\n",
      "79\n",
      "81\n",
      "83\n",
      "85\n",
      "87\n",
      "89\n",
      "91\n",
      "93\n",
      "95\n",
      "97\n",
      "99\n",
      "101\n",
      "103\n",
      "105\n",
      "107\n",
      "109\n",
      "111\n",
      "113\n",
      "115\n",
      "117\n",
      "119\n",
      "121\n",
      "123\n",
      "125\n",
      "127\n",
      "129\n",
      "131\n",
      "133\n",
      "135\n",
      "137\n",
      "139\n",
      "141\n",
      "143\n",
      "145\n",
      "147\n",
      "149\n",
      "151\n",
      "153\n",
      "155\n",
      "157\n",
      "159\n",
      "161\n",
      "163\n",
      "165\n",
      "167\n"
     ]
    }
   ],
   "source": [
    "k = range(1,500,2)\n",
    "testing_accuracy = []\n",
    "training_accuracy = []\n",
    "score = 0\n",
    "\n",
    "for i in k:\n",
    "    knn = KNeighborsClassifier(n_neighbors = i)\n",
    "    knn.fit(x_train, y_train)\n",
    "    \n",
    "    y_predict_train = knn.predict(x_train)\n",
    "    training_accuracy.append(accuracy_score(y_train, y_predict_train))\n",
    "    \n",
    "    y_predict_test = knn.predict(x_test)\n",
    "    acc_score = accuracy_score(y_test,y_predict_test)\n",
    "    testing_accuracy.append(acc_score)\n",
    "    \n",
    "    print(i)\n",
    "\n",
    "    if score < acc_score:\n",
    "        score = acc_score\n",
    "        best_k = i\n",
    "        \n",
    "        \n",
    "sns.lineplot(k, training_accuracy)\n",
    "sns.scatterplot(k, training_accuracy)\n",
    "sns.lineplot(k, testing_accuracy)\n",
    "sns.scatterplot(k, testing_accuracy)\n",
    "plt.legend(['training accuracy', 'testing accuracy'])"
   ]
  },
  {
   "cell_type": "code",
   "execution_count": null,
   "metadata": {},
   "outputs": [],
   "source": [
    "'''print('This is the best depth for Decision Tree Classifier: ', best_depth, '\\nAccuracy score is: ', score)'''\n",
    "result = confusion_matrix(y_test.argmax(axis=1), y_predict_test.argmax(axis=1),)\n",
    "print(\"Confusion Matrix:\",\"\\n\", result)\n",
    "report = classification_report(y_test.argmax(axis=1), y_predict_test.argmax(axis=1),)\n",
    "print(\"Classification Report:\" , \"\\n\", report)"
   ]
  },
  {
   "cell_type": "code",
   "execution_count": 41,
   "metadata": {},
   "outputs": [
    {
     "data": {
      "text/plain": [
       "(37137, 100, 125, 3)"
      ]
     },
     "execution_count": 41,
     "metadata": {},
     "output_type": "execute_result"
    }
   ],
   "source": [
    "x_train = x_train.reshape(x_train_o.shape[0], *(100, 125, 3))\n",
    "x_test = x_test.reshape(x_test_o.shape[0], *(100, 125, 3))\n",
    "x_train.shape"
   ]
  },
  {
   "cell_type": "markdown",
   "metadata": {},
   "source": [
    "### MLP"
   ]
  },
  {
   "cell_type": "code",
   "execution_count": 42,
   "metadata": {},
   "outputs": [
    {
     "name": "stdout",
     "output_type": "stream",
     "text": [
      "Model: \"sequential_4\"\n",
      "_________________________________________________________________\n",
      " Layer (type)                Output Shape              Param #   \n",
      "=================================================================\n",
      " dense_16 (Dense)            (None, 128)               4800128   \n",
      "                                                                 \n",
      " dense_17 (Dense)            (None, 256)               33024     \n",
      "                                                                 \n",
      " dense_18 (Dense)            (None, 512)               131584    \n",
      "                                                                 \n",
      " dense_19 (Dense)            (None, 64)                32832     \n",
      "                                                                 \n",
      " dense_20 (Dense)            (None, 7)                 455       \n",
      "                                                                 \n",
      "=================================================================\n",
      "Total params: 4,998,023\n",
      "Trainable params: 4,998,023\n",
      "Non-trainable params: 0\n",
      "_________________________________________________________________\n"
     ]
    }
   ],
   "source": [
    "x_train = x_train.reshape(x_train.shape[0],125*100*3)\n",
    "x_test = x_test.reshape(x_test.shape[0],125*100*3)\n",
    "\n",
    "# define the keras model\n",
    "model = Sequential()\n",
    "\n",
    "model.add(Dense(units= 128, kernel_initializer = 'uniform', activation = 'relu', input_dim = 37500))\n",
    "model.add(Dense(units= 256, kernel_initializer = 'uniform', activation = 'relu'))\n",
    "model.add(Dense(units= 512, kernel_initializer = 'uniform', activation = 'relu'))\n",
    "model.add(Dense(units= 64, kernel_initializer = 'uniform', activation = 'relu'))\n",
    "model.add(Dense(units = 7, kernel_initializer = 'uniform', activation = 'softmax'))\n",
    "model.summary()"
   ]
  },
  {
   "cell_type": "code",
   "execution_count": 44,
   "metadata": {},
   "outputs": [
    {
     "name": "stdout",
     "output_type": "stream",
     "text": [
      "Epoch 1/25\n",
      "75/75 [==============================] - 10s 121ms/step - loss: 1.1428 - accuracy: 0.5539\n",
      "Epoch 2/25\n",
      "75/75 [==============================] - 8s 112ms/step - loss: 0.6291 - accuracy: 0.7566\n",
      "Epoch 3/25\n",
      "75/75 [==============================] - 8s 110ms/step - loss: 0.4084 - accuracy: 0.8398\n",
      "Epoch 4/25\n",
      "75/75 [==============================] - 8s 111ms/step - loss: 0.3396 - accuracy: 0.8653\n",
      "Epoch 5/25\n",
      "75/75 [==============================] - 8s 111ms/step - loss: 0.2478 - accuracy: 0.9056\n",
      "Epoch 6/25\n",
      "75/75 [==============================] - 8s 111ms/step - loss: 0.2107 - accuracy: 0.9229\n",
      "Epoch 7/25\n",
      "75/75 [==============================] - 8s 112ms/step - loss: 0.1843 - accuracy: 0.9320\n",
      "Epoch 8/25\n",
      "75/75 [==============================] - 8s 110ms/step - loss: 0.1260 - accuracy: 0.9542\n",
      "Epoch 9/25\n",
      "75/75 [==============================] - 8s 110ms/step - loss: 0.0978 - accuracy: 0.9651\n",
      "Epoch 10/25\n",
      "75/75 [==============================] - 8s 112ms/step - loss: 0.1328 - accuracy: 0.9532\n",
      "Epoch 11/25\n",
      "75/75 [==============================] - 8s 111ms/step - loss: 0.0884 - accuracy: 0.9694\n",
      "Epoch 12/25\n",
      "75/75 [==============================] - 8s 111ms/step - loss: 0.0989 - accuracy: 0.9659\n",
      "Epoch 13/25\n",
      "75/75 [==============================] - 8s 111ms/step - loss: 0.0680 - accuracy: 0.9770\n",
      "Epoch 14/25\n",
      "75/75 [==============================] - 8s 111ms/step - loss: 0.0431 - accuracy: 0.9856\n",
      "Epoch 15/25\n",
      "75/75 [==============================] - 8s 111ms/step - loss: 0.0657 - accuracy: 0.9774\n",
      "Epoch 16/25\n",
      "75/75 [==============================] - 8s 111ms/step - loss: 0.0592 - accuracy: 0.9797\n",
      "Epoch 17/25\n",
      "75/75 [==============================] - 8s 110ms/step - loss: 0.0499 - accuracy: 0.9832\n",
      "Epoch 18/25\n",
      "75/75 [==============================] - 8s 111ms/step - loss: 0.0746 - accuracy: 0.9751\n",
      "Epoch 19/25\n",
      "75/75 [==============================] - 8s 111ms/step - loss: 0.0408 - accuracy: 0.9868\n",
      "Epoch 20/25\n",
      "75/75 [==============================] - 8s 112ms/step - loss: 0.0174 - accuracy: 0.9946\n",
      "Epoch 21/25\n",
      "75/75 [==============================] - 8s 113ms/step - loss: 0.0170 - accuracy: 0.9940\n",
      "Epoch 22/25\n",
      "75/75 [==============================] - 8s 111ms/step - loss: 0.0419 - accuracy: 0.9861\n",
      "Epoch 23/25\n",
      "75/75 [==============================] - 8s 112ms/step - loss: 0.0772 - accuracy: 0.9748\n",
      "Epoch 24/25\n",
      "75/75 [==============================] - 8s 112ms/step - loss: 0.0281 - accuracy: 0.9908\n",
      "Epoch 25/25\n",
      "75/75 [==============================] - 8s 112ms/step - loss: 0.0092 - accuracy: 0.9975\n"
     ]
    }
   ],
   "source": [
    "# compile the keras model\n",
    "model.compile(optimizer = \"Adam\", loss = 'categorical_crossentropy', metrics = ['accuracy'])\n",
    "\n",
    "# fit the keras model on the dataset\n",
    "history = model.fit(x_train, y_train, batch_size = 500, epochs = 25)"
   ]
  },
  {
   "cell_type": "code",
   "execution_count": 45,
   "metadata": {},
   "outputs": [
    {
     "name": "stdout",
     "output_type": "stream",
     "text": [
      "387/387 [==============================] - 10s 25ms/step - loss: 0.1155 - accuracy: 0.9757\n",
      "Test: accuracy =  97.56866097450256 %\n"
     ]
    }
   ],
   "source": [
    "accuracy = model.evaluate(x_test, y_test, verbose=1)[1]\n",
    "print(\"Test: accuracy = \",accuracy*100,\"%\")"
   ]
  },
  {
   "cell_type": "markdown",
   "metadata": {},
   "source": [
    "### CNN"
   ]
  },
  {
   "cell_type": "code",
   "execution_count": 21,
   "metadata": {},
   "outputs": [
    {
     "name": "stdout",
     "output_type": "stream",
     "text": [
      "(37137, 125, 100, 3)\n",
      "(12380, 125, 100, 3)\n"
     ]
    }
   ],
   "source": [
    "x_train = x_train.reshape(x_train.shape[0], 125,100,3)\n",
    "x_test = x_test.reshape(x_test.shape[0], 125, 100, 3)\n",
    "print(x_train.shape)\n",
    "print(x_test.shape)"
   ]
  },
  {
   "cell_type": "code",
   "execution_count": 32,
   "metadata": {},
   "outputs": [
    {
     "name": "stdout",
     "output_type": "stream",
     "text": [
      "Model: \"sequential_1\"\n",
      "_________________________________________________________________\n",
      " Layer (type)                Output Shape              Param #   \n",
      "=================================================================\n",
      " conv2d_4 (Conv2D)           (None, 125, 100, 64)      1792      \n",
      "                                                                 \n",
      " conv2d_5 (Conv2D)           (None, 125, 100, 64)      36928     \n",
      "                                                                 \n",
      " max_pooling2d_2 (MaxPooling  (None, 62, 50, 64)       0         \n",
      " 2D)                                                             \n",
      "                                                                 \n",
      " dropout_3 (Dropout)         (None, 62, 50, 64)        0         \n",
      "                                                                 \n",
      " conv2d_6 (Conv2D)           (None, 62, 50, 128)       73856     \n",
      "                                                                 \n",
      " conv2d_7 (Conv2D)           (None, 62, 50, 128)       147584    \n",
      "                                                                 \n",
      " max_pooling2d_3 (MaxPooling  (None, 31, 25, 128)      0         \n",
      " 2D)                                                             \n",
      "                                                                 \n",
      " dropout_4 (Dropout)         (None, 31, 25, 128)       0         \n",
      "                                                                 \n",
      " flatten_1 (Flatten)         (None, 99200)             0         \n",
      "                                                                 \n",
      " dense_3 (Dense)             (None, 512)               50790912  \n",
      "                                                                 \n",
      " dense_4 (Dense)             (None, 256)               131328    \n",
      "                                                                 \n",
      " dropout_5 (Dropout)         (None, 256)               0         \n",
      "                                                                 \n",
      " dense_5 (Dense)             (None, 7)                 1799      \n",
      "                                                                 \n",
      "=================================================================\n",
      "Total params: 51,184,199\n",
      "Trainable params: 51,184,199\n",
      "Non-trainable params: 0\n",
      "_________________________________________________________________\n"
     ]
    }
   ],
   "source": [
    "input_shape = (125, 100, 3)\n",
    "num_classes = 7\n",
    "\n",
    "model = Sequential()\n",
    "model.add(Conv2D(64, kernel_size=(3, 3),activation='relu',padding = 'Same',input_shape=input_shape))\n",
    "model.add(Conv2D(64,kernel_size=(3, 3), activation='relu',padding = 'Same'))\n",
    "model.add(MaxPooling2D(pool_size = (2, 2)))\n",
    "model.add(Dropout(0.16))\n",
    "\n",
    "model.add(Conv2D(128, (3, 3), activation='relu',padding = 'same'))\n",
    "model.add(Conv2D(128, (3, 3), activation='relu',padding = 'Same'))\n",
    "model.add(MaxPooling2D(pool_size=(2, 2)))\n",
    "model.add(Dropout(0.20))\n",
    "\n",
    "model.add(Flatten())\n",
    "model.add(Dense(512, activation='relu'))\n",
    "model.add(Dense(256, activation='relu'))\n",
    "model.add(Dropout(0.3))\n",
    "model.add(Dense(num_classes, activation='softmax'))\n",
    "model.summary()"
   ]
  },
  {
   "cell_type": "code",
   "execution_count": 33,
   "metadata": {},
   "outputs": [],
   "source": [
    "model.compile(optimizer= \"Adam\",\n",
    "            loss='categorical_crossentropy',\n",
    "            metrics=['accuracy'])\n",
    "\n",
    "learning_rate_reduction = ReduceLROnPlateau(monitor='val_accuracy', \n",
    "                                            patience=4, \n",
    "                                            verbose=1, \n",
    "                                            factor=0.5, \n",
    "                                            min_lr=0.00001)"
   ]
  },
  {
   "cell_type": "code",
   "execution_count": 34,
   "metadata": {},
   "outputs": [
    {
     "name": "stdout",
     "output_type": "stream",
     "text": [
      "Epoch 1/10\n",
      "75/75 [==============================] - 2494s 33s/step - loss: 1.9435 - accuracy: 0.3221\n",
      "Epoch 2/10\n",
      "75/75 [==============================] - 2491s 33s/step - loss: 1.1120 - accuracy: 0.5682\n",
      "Epoch 3/10\n",
      "75/75 [==============================] - 2481s 33s/step - loss: 0.6452 - accuracy: 0.7605\n",
      "Epoch 4/10\n",
      "75/75 [==============================] - 2484s 33s/step - loss: 0.3469 - accuracy: 0.8690\n",
      "Epoch 5/10\n",
      "75/75 [==============================] - 2483s 33s/step - loss: 0.2107 - accuracy: 0.9219\n",
      "Epoch 6/10\n",
      "75/75 [==============================] - 2463s 33s/step - loss: 0.1386 - accuracy: 0.9510\n",
      "Epoch 7/10\n",
      "75/75 [==============================] - 2462s 33s/step - loss: 0.0884 - accuracy: 0.9690\n",
      "Epoch 8/10\n",
      "75/75 [==============================] - 2460s 33s/step - loss: 0.0597 - accuracy: 0.9794\n",
      "Epoch 9/10\n",
      "75/75 [==============================] - 2467s 33s/step - loss: 0.0521 - accuracy: 0.9823\n",
      "Epoch 10/10\n",
      "75/75 [==============================] - 2452s 33s/step - loss: 0.0357 - accuracy: 0.9881\n"
     ]
    },
    {
     "data": {
      "text/plain": [
       "<keras.callbacks.History at 0x2a0b3f25850>"
      ]
     },
     "execution_count": 34,
     "metadata": {},
     "output_type": "execute_result"
    }
   ],
   "source": [
    "#x_train, x_validate, y_train, y_validate = train_test_split(x_train, y_train, test_size = 0.1, random_state = 999)\n",
    "\n",
    "\n",
    "# Reshape image in 3 dimensions (height = 100, width = 125 , canal = 3)\n",
    "x_train = x_train.reshape(x_train.shape[0], *(125, 100, 3))\n",
    "x_test = x_test.reshape(x_test.shape[0], *(125, 100, 3))\n",
    "#x_validate = x_validate.reshape(x_validate.shape[0], *(100, 125, 3))\n",
    "\n",
    "tf.config.run_functions_eagerly(True)\n",
    "\n",
    "\n",
    "model.fit(x_train, y_train, batch_size = 500, epochs = 10)"
   ]
  },
  {
   "cell_type": "code",
   "execution_count": 35,
   "metadata": {},
   "outputs": [
    {
     "name": "stdout",
     "output_type": "stream",
     "text": [
      "387/387 [==============================] - 207s 534ms/step - loss: 0.1155 - accuracy: 0.9727\n",
      "Test Accuracy:  97.2697913646698 %\n"
     ]
    }
   ],
   "source": [
    "test_loss, test_acc = model.evaluate(x_test, y_test)\n",
    "print(\"Test Accuracy: \",test_acc*100,\"%\")"
   ]
  },
  {
   "cell_type": "code",
   "execution_count": null,
   "metadata": {},
   "outputs": [],
   "source": [
    "\n"
   ]
  },
  {
   "cell_type": "code",
   "execution_count": null,
   "metadata": {},
   "outputs": [],
   "source": []
  },
  {
   "cell_type": "code",
   "execution_count": null,
   "metadata": {},
   "outputs": [],
   "source": []
  },
  {
   "cell_type": "code",
   "execution_count": null,
   "metadata": {},
   "outputs": [],
   "source": []
  },
  {
   "cell_type": "code",
   "execution_count": null,
   "metadata": {},
   "outputs": [],
   "source": []
  },
  {
   "cell_type": "code",
   "execution_count": null,
   "metadata": {},
   "outputs": [],
   "source": []
  },
  {
   "cell_type": "code",
   "execution_count": null,
   "metadata": {},
   "outputs": [],
   "source": []
  },
  {
   "cell_type": "code",
   "execution_count": null,
   "metadata": {},
   "outputs": [],
   "source": []
  },
  {
   "cell_type": "code",
   "execution_count": null,
   "metadata": {},
   "outputs": [],
   "source": []
  }
 ],
 "metadata": {
  "kernelspec": {
   "display_name": "Python 3 (ipykernel)",
   "language": "python",
   "name": "python3"
  },
  "language_info": {
   "codemirror_mode": {
    "name": "ipython",
    "version": 3
   },
   "file_extension": ".py",
   "mimetype": "text/x-python",
   "name": "python",
   "nbconvert_exporter": "python",
   "pygments_lexer": "ipython3",
   "version": "3.9.12"
  }
 },
 "nbformat": 4,
 "nbformat_minor": 4
}
