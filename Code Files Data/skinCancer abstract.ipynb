{
 "cells": [
  {
   "cell_type": "code",
   "execution_count": 1,
   "metadata": {},
   "outputs": [
    {
     "name": "stdout",
     "output_type": "stream",
     "text": [
      "Requirement already satisfied: tensorflow in c:\\programdata\\anaconda3\\lib\\site-packages (2.9.1)\n",
      "Requirement already satisfied: h5py>=2.9.0 in c:\\programdata\\anaconda3\\lib\\site-packages (from tensorflow) (3.6.0)\n",
      "Requirement already satisfied: keras<2.10.0,>=2.9.0rc0 in c:\\programdata\\anaconda3\\lib\\site-packages (from tensorflow) (2.9.0)\n",
      "Requirement already satisfied: six>=1.12.0 in c:\\programdata\\anaconda3\\lib\\site-packages (from tensorflow) (1.16.0)\n",
      "Requirement already satisfied: absl-py>=1.0.0 in c:\\programdata\\anaconda3\\lib\\site-packages (from tensorflow) (1.1.0)\n",
      "Requirement already satisfied: google-pasta>=0.1.1 in c:\\programdata\\anaconda3\\lib\\site-packages (from tensorflow) (0.2.0)\n",
      "Requirement already satisfied: grpcio<2.0,>=1.24.3 in c:\\programdata\\anaconda3\\lib\\site-packages (from tensorflow) (1.42.0)\n",
      "Requirement already satisfied: wrapt>=1.11.0 in c:\\programdata\\anaconda3\\lib\\site-packages (from tensorflow) (1.12.1)\n",
      "Requirement already satisfied: keras-preprocessing>=1.1.1 in c:\\programdata\\anaconda3\\lib\\site-packages (from tensorflow) (1.1.2)\n",
      "Requirement already satisfied: tensorflow-io-gcs-filesystem>=0.23.1 in c:\\programdata\\anaconda3\\lib\\site-packages (from tensorflow) (0.26.0)\n",
      "Requirement already satisfied: packaging in c:\\programdata\\anaconda3\\lib\\site-packages (from tensorflow) (21.3)\n",
      "Requirement already satisfied: numpy>=1.20 in c:\\programdata\\anaconda3\\lib\\site-packages (from tensorflow) (1.21.5)\n",
      "Requirement already satisfied: tensorboard<2.10,>=2.9 in c:\\programdata\\anaconda3\\lib\\site-packages (from tensorflow) (2.9.1)\n",
      "Requirement already satisfied: setuptools in c:\\programdata\\anaconda3\\lib\\site-packages (from tensorflow) (61.2.0)\n",
      "Requirement already satisfied: flatbuffers<2,>=1.12 in c:\\programdata\\anaconda3\\lib\\site-packages (from tensorflow) (1.12)\n",
      "Requirement already satisfied: tensorflow-estimator<2.10.0,>=2.9.0rc0 in c:\\programdata\\anaconda3\\lib\\site-packages (from tensorflow) (2.9.0)\n",
      "Requirement already satisfied: gast<=0.4.0,>=0.2.1 in c:\\programdata\\anaconda3\\lib\\site-packages (from tensorflow) (0.4.0)\n",
      "Requirement already satisfied: opt-einsum>=2.3.2 in c:\\programdata\\anaconda3\\lib\\site-packages (from tensorflow) (3.3.0)\n",
      "Requirement already satisfied: astunparse>=1.6.0 in c:\\programdata\\anaconda3\\lib\\site-packages (from tensorflow) (1.6.3)\n",
      "Requirement already satisfied: libclang>=13.0.0 in c:\\programdata\\anaconda3\\lib\\site-packages (from tensorflow) (14.0.1)\n",
      "Requirement already satisfied: termcolor>=1.1.0 in c:\\programdata\\anaconda3\\lib\\site-packages (from tensorflow) (1.1.0)\n",
      "Requirement already satisfied: protobuf<3.20,>=3.9.2 in c:\\programdata\\anaconda3\\lib\\site-packages (from tensorflow) (3.19.1)\n",
      "Requirement already satisfied: typing-extensions>=3.6.6 in c:\\programdata\\anaconda3\\lib\\site-packages (from tensorflow) (4.1.1)\n",
      "Requirement already satisfied: wheel<1.0,>=0.23.0 in c:\\programdata\\anaconda3\\lib\\site-packages (from astunparse>=1.6.0->tensorflow) (0.37.1)\n",
      "Requirement already satisfied: google-auth<3,>=1.6.3 in c:\\programdata\\anaconda3\\lib\\site-packages (from tensorboard<2.10,>=2.9->tensorflow) (1.33.0)\n",
      "Requirement already satisfied: markdown>=2.6.8 in c:\\programdata\\anaconda3\\lib\\site-packages (from tensorboard<2.10,>=2.9->tensorflow) (3.3.4)\n",
      "Requirement already satisfied: google-auth-oauthlib<0.5,>=0.4.1 in c:\\programdata\\anaconda3\\lib\\site-packages (from tensorboard<2.10,>=2.9->tensorflow) (0.4.6)\n",
      "Requirement already satisfied: werkzeug>=1.0.1 in c:\\programdata\\anaconda3\\lib\\site-packages (from tensorboard<2.10,>=2.9->tensorflow) (2.0.3)\n",
      "Requirement already satisfied: tensorboard-plugin-wit>=1.6.0 in c:\\programdata\\anaconda3\\lib\\site-packages (from tensorboard<2.10,>=2.9->tensorflow) (1.8.1)\n",
      "Requirement already satisfied: requests<3,>=2.21.0 in c:\\programdata\\anaconda3\\lib\\site-packages (from tensorboard<2.10,>=2.9->tensorflow) (2.27.1)\n",
      "Requirement already satisfied: tensorboard-data-server<0.7.0,>=0.6.0 in c:\\programdata\\anaconda3\\lib\\site-packages (from tensorboard<2.10,>=2.9->tensorflow) (0.6.1)\n",
      "Requirement already satisfied: pyasn1-modules>=0.2.1 in c:\\programdata\\anaconda3\\lib\\site-packages (from google-auth<3,>=1.6.3->tensorboard<2.10,>=2.9->tensorflow) (0.2.8)\n",
      "Requirement already satisfied: rsa<5,>=3.1.4 in c:\\programdata\\anaconda3\\lib\\site-packages (from google-auth<3,>=1.6.3->tensorboard<2.10,>=2.9->tensorflow) (4.7.2)\n",
      "Requirement already satisfied: cachetools<5.0,>=2.0.0 in c:\\programdata\\anaconda3\\lib\\site-packages (from google-auth<3,>=1.6.3->tensorboard<2.10,>=2.9->tensorflow) (4.2.2)\n",
      "Requirement already satisfied: requests-oauthlib>=0.7.0 in c:\\programdata\\anaconda3\\lib\\site-packages (from google-auth-oauthlib<0.5,>=0.4.1->tensorboard<2.10,>=2.9->tensorflow) (1.3.1)\n",
      "Requirement already satisfied: pyasn1<0.5.0,>=0.4.6 in c:\\programdata\\anaconda3\\lib\\site-packages (from pyasn1-modules>=0.2.1->google-auth<3,>=1.6.3->tensorboard<2.10,>=2.9->tensorflow) (0.4.8)\n",
      "Requirement already satisfied: charset-normalizer~=2.0.0 in c:\\programdata\\anaconda3\\lib\\site-packages (from requests<3,>=2.21.0->tensorboard<2.10,>=2.9->tensorflow) (2.0.4)\n",
      "Requirement already satisfied: idna<4,>=2.5 in c:\\programdata\\anaconda3\\lib\\site-packages (from requests<3,>=2.21.0->tensorboard<2.10,>=2.9->tensorflow) (3.3)\n",
      "Requirement already satisfied: urllib3<1.27,>=1.21.1 in c:\\programdata\\anaconda3\\lib\\site-packages (from requests<3,>=2.21.0->tensorboard<2.10,>=2.9->tensorflow) (1.26.9)\n",
      "Requirement already satisfied: certifi>=2017.4.17 in c:\\programdata\\anaconda3\\lib\\site-packages (from requests<3,>=2.21.0->tensorboard<2.10,>=2.9->tensorflow) (2021.10.8)\n",
      "Requirement already satisfied: oauthlib>=3.0.0 in c:\\programdata\\anaconda3\\lib\\site-packages (from requests-oauthlib>=0.7.0->google-auth-oauthlib<0.5,>=0.4.1->tensorboard<2.10,>=2.9->tensorflow) (3.2.0)\n",
      "Requirement already satisfied: pyparsing!=3.0.5,>=2.0.2 in c:\\programdata\\anaconda3\\lib\\site-packages (from packaging->tensorflow) (3.0.4)\n",
      "Note: you may need to restart the kernel to use updated packages.\n"
     ]
    }
   ],
   "source": [
    "pip install tensorflow"
   ]
  },
  {
   "cell_type": "code",
   "execution_count": 2,
   "metadata": {},
   "outputs": [
    {
     "name": "stdout",
     "output_type": "stream",
     "text": [
      "Requirement already satisfied: sklearn in c:\\programdata\\anaconda3\\lib\\site-packages (0.0)\n",
      "Requirement already satisfied: scikit-learn in c:\\programdata\\anaconda3\\lib\\site-packages (from sklearn) (1.0.2)\n",
      "Note: you may need to restart the kernel to use updated packages.\n",
      "Requirement already satisfied: threadpoolctl>=2.0.0 in c:\\programdata\\anaconda3\\lib\\site-packages (from scikit-learn->sklearn) (2.2.0)\n",
      "Requirement already satisfied: joblib>=0.11 in c:\\programdata\\anaconda3\\lib\\site-packages (from scikit-learn->sklearn) (1.1.0)\n",
      "Requirement already satisfied: numpy>=1.14.6 in c:\\programdata\\anaconda3\\lib\\site-packages (from scikit-learn->sklearn) (1.21.5)\n",
      "Requirement already satisfied: scipy>=1.1.0 in c:\\programdata\\anaconda3\\lib\\site-packages (from scikit-learn->sklearn) (1.7.3)\n"
     ]
    }
   ],
   "source": [
    "pip install sklearn"
   ]
  },
  {
   "cell_type": "code",
   "execution_count": 3,
   "metadata": {},
   "outputs": [
    {
     "name": "stdout",
     "output_type": "stream",
     "text": [
      "Requirement already satisfied: matplotlib in c:\\programdata\\anaconda3\\lib\\site-packages (3.5.1)\n",
      "Requirement already satisfied: cycler>=0.10 in c:\\programdata\\anaconda3\\lib\\site-packages (from matplotlib) (0.11.0)\n",
      "Requirement already satisfied: fonttools>=4.22.0 in c:\\programdata\\anaconda3\\lib\\site-packages (from matplotlib) (4.25.0)\n",
      "Requirement already satisfied: pyparsing>=2.2.1 in c:\\programdata\\anaconda3\\lib\\site-packages (from matplotlib) (3.0.4)\n",
      "Requirement already satisfied: python-dateutil>=2.7 in c:\\programdata\\anaconda3\\lib\\site-packages (from matplotlib) (2.8.2)\n",
      "Requirement already satisfied: packaging>=20.0 in c:\\programdata\\anaconda3\\lib\\site-packages (from matplotlib) (21.3)\n",
      "Requirement already satisfied: numpy>=1.17 in c:\\programdata\\anaconda3\\lib\\site-packages (from matplotlib) (1.21.5)\n",
      "Requirement already satisfied: pillow>=6.2.0 in c:\\programdata\\anaconda3\\lib\\site-packages (from matplotlib) (9.0.1)\n",
      "Requirement already satisfied: kiwisolver>=1.0.1 in c:\\programdata\\anaconda3\\lib\\site-packages (from matplotlib) (1.3.2)\n",
      "Requirement already satisfied: six>=1.5 in c:\\programdata\\anaconda3\\lib\\site-packages (from python-dateutil>=2.7->matplotlib) (1.16.0)\n",
      "Note: you may need to restart the kernel to use updated packages.\n"
     ]
    }
   ],
   "source": [
    "pip install matplotlib"
   ]
  },
  {
   "cell_type": "code",
   "execution_count": 4,
   "metadata": {},
   "outputs": [
    {
     "name": "stdout",
     "output_type": "stream",
     "text": [
      "Requirement already satisfied: keras in c:\\programdata\\anaconda3\\lib\\site-packages (2.9.0)\n",
      "Note: you may need to restart the kernel to use updated packages.\n"
     ]
    }
   ],
   "source": [
    "pip install keras"
   ]
  },
  {
   "cell_type": "code",
   "execution_count": 5,
   "metadata": {},
   "outputs": [
    {
     "name": "stdout",
     "output_type": "stream",
     "text": [
      "Requirement already satisfied: seaborn in c:\\programdata\\anaconda3\\lib\\site-packages (0.11.2)\n",
      "Requirement already satisfied: matplotlib>=2.2 in c:\\programdata\\anaconda3\\lib\\site-packages (from seaborn) (3.5.1)\n",
      "Requirement already satisfied: scipy>=1.0 in c:\\programdata\\anaconda3\\lib\\site-packages (from seaborn) (1.7.3)\n",
      "Requirement already satisfied: pandas>=0.23 in c:\\programdata\\anaconda3\\lib\\site-packages (from seaborn) (1.4.2)\n",
      "Requirement already satisfied: numpy>=1.15 in c:\\programdata\\anaconda3\\lib\\site-packages (from seaborn) (1.21.5)\n",
      "Requirement already satisfied: kiwisolver>=1.0.1 in c:\\programdata\\anaconda3\\lib\\site-packages (from matplotlib>=2.2->seaborn) (1.3.2)\n",
      "Requirement already satisfied: cycler>=0.10 in c:\\programdata\\anaconda3\\lib\\site-packages (from matplotlib>=2.2->seaborn) (0.11.0)\n",
      "Requirement already satisfied: packaging>=20.0 in c:\\programdata\\anaconda3\\lib\\site-packages (from matplotlib>=2.2->seaborn) (21.3)\n",
      "Requirement already satisfied: pyparsing>=2.2.1 in c:\\programdata\\anaconda3\\lib\\site-packages (from matplotlib>=2.2->seaborn) (3.0.4)\n",
      "Requirement already satisfied: pillow>=6.2.0 in c:\\programdata\\anaconda3\\lib\\site-packages (from matplotlib>=2.2->seaborn) (9.0.1)\n",
      "Requirement already satisfied: python-dateutil>=2.7 in c:\\programdata\\anaconda3\\lib\\site-packages (from matplotlib>=2.2->seaborn) (2.8.2)\n",
      "Requirement already satisfied: fonttools>=4.22.0 in c:\\programdata\\anaconda3\\lib\\site-packages (from matplotlib>=2.2->seaborn) (4.25.0)\n",
      "Requirement already satisfied: pytz>=2020.1 in c:\\programdata\\anaconda3\\lib\\site-packages (from pandas>=0.23->seaborn) (2021.3)\n",
      "Requirement already satisfied: six>=1.5 in c:\\programdata\\anaconda3\\lib\\site-packages (from python-dateutil>=2.7->matplotlib>=2.2->seaborn) (1.16.0)\n",
      "Note: you may need to restart the kernel to use updated packages.\n"
     ]
    }
   ],
   "source": [
    "pip install seaborn"
   ]
  },
  {
   "cell_type": "code",
   "execution_count": 6,
   "metadata": {},
   "outputs": [
    {
     "name": "stdout",
     "output_type": "stream",
     "text": [
      "Requirement already satisfied: pydotplus in c:\\programdata\\anaconda3\\lib\\site-packages (2.0.2)\n",
      "Requirement already satisfied: pyparsing>=2.0.1 in c:\\programdata\\anaconda3\\lib\\site-packages (from pydotplus) (3.0.4)\n",
      "Note: you may need to restart the kernel to use updated packages.\n"
     ]
    }
   ],
   "source": [
    "pip install pydotplus"
   ]
  },
  {
   "cell_type": "code",
   "execution_count": 7,
   "metadata": {},
   "outputs": [],
   "source": [
    "import matplotlib.pyplot as plt\n",
    "from PIL import Image\n",
    "import seaborn as sns\n",
    "import numpy as np\n",
    "import pandas as pd\n",
    "import os\n",
    "from tensorflow.keras.utils import to_categorical\n",
    "from glob import glob\n",
    "\n",
    "\n",
    "from sklearn.model_selection import train_test_split\n",
    "import keras\n",
    "from keras.models import Sequential\n",
    "from keras.layers import Dense, Dropout\n",
    "import tensorflow as tf\n",
    "from sklearn.preprocessing import StandardScaler\n",
    "from sklearn.tree import DecisionTreeClassifier\n",
    "from sklearn.ensemble import RandomForestClassifier\n",
    "from sklearn.neighbors import KNeighborsClassifier\n",
    "from sklearn.metrics import accuracy_score, confusion_matrix, classification_report\n",
    "from tensorflow.keras.optimizers import Adam\n",
    "from tensorflow.keras.callbacks import ReduceLROnPlateau\n",
    "from tensorflow.keras import layers\n",
    "from tensorflow.keras.layers import Conv2D, MaxPooling2D, Flatten\n",
    "\n",
    "from sklearn.metrics import confusion_matrix\n",
    "import itertools\n",
    "import matplotlib.pyplot as plt\n",
    "\n",
    "import warnings\n",
    "warnings.filterwarnings(\"ignore\")"
   ]
  },
  {
   "cell_type": "code",
   "execution_count": 8,
   "metadata": {},
   "outputs": [
    {
     "data": {
      "text/html": [
       "<div>\n",
       "<style scoped>\n",
       "    .dataframe tbody tr th:only-of-type {\n",
       "        vertical-align: middle;\n",
       "    }\n",
       "\n",
       "    .dataframe tbody tr th {\n",
       "        vertical-align: top;\n",
       "    }\n",
       "\n",
       "    .dataframe thead th {\n",
       "        text-align: right;\n",
       "    }\n",
       "</style>\n",
       "<table border=\"1\" class=\"dataframe\">\n",
       "  <thead>\n",
       "    <tr style=\"text-align: right;\">\n",
       "      <th></th>\n",
       "      <th>lesion_id</th>\n",
       "      <th>image_id</th>\n",
       "      <th>dx</th>\n",
       "      <th>dx_type</th>\n",
       "      <th>age</th>\n",
       "      <th>sex</th>\n",
       "      <th>localization</th>\n",
       "    </tr>\n",
       "  </thead>\n",
       "  <tbody>\n",
       "    <tr>\n",
       "      <th>0</th>\n",
       "      <td>HAM_0000673</td>\n",
       "      <td>ISIC_0029659</td>\n",
       "      <td>akiec</td>\n",
       "      <td>histo</td>\n",
       "      <td>70</td>\n",
       "      <td>female</td>\n",
       "      <td>face</td>\n",
       "    </tr>\n",
       "    <tr>\n",
       "      <th>1</th>\n",
       "      <td>HAM_0005282</td>\n",
       "      <td>ISIC_0025178</td>\n",
       "      <td>akiec</td>\n",
       "      <td>histo</td>\n",
       "      <td>65</td>\n",
       "      <td>male</td>\n",
       "      <td>lower extremity</td>\n",
       "    </tr>\n",
       "    <tr>\n",
       "      <th>2</th>\n",
       "      <td>HAM_0006002</td>\n",
       "      <td>ISIC_0029915</td>\n",
       "      <td>akiec</td>\n",
       "      <td>histo</td>\n",
       "      <td>50</td>\n",
       "      <td>female</td>\n",
       "      <td>face</td>\n",
       "    </tr>\n",
       "    <tr>\n",
       "      <th>3</th>\n",
       "      <td>HAM_0000549</td>\n",
       "      <td>ISIC_0029360</td>\n",
       "      <td>akiec</td>\n",
       "      <td>histo</td>\n",
       "      <td>70</td>\n",
       "      <td>male</td>\n",
       "      <td>upper extremity</td>\n",
       "    </tr>\n",
       "    <tr>\n",
       "      <th>4</th>\n",
       "      <td>HAM_0000549</td>\n",
       "      <td>ISIC_0026152</td>\n",
       "      <td>akiec</td>\n",
       "      <td>histo</td>\n",
       "      <td>70</td>\n",
       "      <td>male</td>\n",
       "      <td>upper extremity</td>\n",
       "    </tr>\n",
       "    <tr>\n",
       "      <th>5</th>\n",
       "      <td>HAM_0006875</td>\n",
       "      <td>ISIC_0026575</td>\n",
       "      <td>akiec</td>\n",
       "      <td>histo</td>\n",
       "      <td>80</td>\n",
       "      <td>male</td>\n",
       "      <td>face</td>\n",
       "    </tr>\n",
       "    <tr>\n",
       "      <th>6</th>\n",
       "      <td>HAM_0006875</td>\n",
       "      <td>ISIC_0030586</td>\n",
       "      <td>akiec</td>\n",
       "      <td>histo</td>\n",
       "      <td>80</td>\n",
       "      <td>male</td>\n",
       "      <td>face</td>\n",
       "    </tr>\n",
       "    <tr>\n",
       "      <th>7</th>\n",
       "      <td>HAM_0002644</td>\n",
       "      <td>ISIC_0029417</td>\n",
       "      <td>akiec</td>\n",
       "      <td>histo</td>\n",
       "      <td>80</td>\n",
       "      <td>female</td>\n",
       "      <td>neck</td>\n",
       "    </tr>\n",
       "    <tr>\n",
       "      <th>8</th>\n",
       "      <td>HAM_0005282</td>\n",
       "      <td>ISIC_0028730</td>\n",
       "      <td>akiec</td>\n",
       "      <td>histo</td>\n",
       "      <td>65</td>\n",
       "      <td>male</td>\n",
       "      <td>lower extremity</td>\n",
       "    </tr>\n",
       "    <tr>\n",
       "      <th>9</th>\n",
       "      <td>HAM_0006898</td>\n",
       "      <td>ISIC_0029041</td>\n",
       "      <td>akiec</td>\n",
       "      <td>histo</td>\n",
       "      <td>80</td>\n",
       "      <td>male</td>\n",
       "      <td>scalp</td>\n",
       "    </tr>\n",
       "  </tbody>\n",
       "</table>\n",
       "</div>"
      ],
      "text/plain": [
       "     lesion_id      image_id     dx dx_type  age     sex     localization\n",
       "0  HAM_0000673  ISIC_0029659  akiec   histo   70  female             face\n",
       "1  HAM_0005282  ISIC_0025178  akiec   histo   65    male  lower extremity\n",
       "2  HAM_0006002  ISIC_0029915  akiec   histo   50  female             face\n",
       "3  HAM_0000549  ISIC_0029360  akiec   histo   70    male  upper extremity\n",
       "4  HAM_0000549  ISIC_0026152  akiec   histo   70    male  upper extremity\n",
       "5  HAM_0006875  ISIC_0026575  akiec   histo   80    male             face\n",
       "6  HAM_0006875  ISIC_0030586  akiec   histo   80    male             face\n",
       "7  HAM_0002644  ISIC_0029417  akiec   histo   80  female             neck\n",
       "8  HAM_0005282  ISIC_0028730  akiec   histo   65    male  lower extremity\n",
       "9  HAM_0006898  ISIC_0029041  akiec   histo   80    male            scalp"
      ]
     },
     "execution_count": 8,
     "metadata": {},
     "output_type": "execute_result"
    }
   ],
   "source": [
    "df = pd.read_csv('skinCancer/abstract_metadata.csv')\n",
    "df.head(10)"
   ]
  },
  {
   "cell_type": "code",
   "execution_count": 9,
   "metadata": {},
   "outputs": [
    {
     "data": {
      "text/plain": [
       "lesion_id       0\n",
       "image_id        0\n",
       "dx              0\n",
       "dx_type         0\n",
       "age             0\n",
       "sex             0\n",
       "localization    0\n",
       "dtype: int64"
      ]
     },
     "execution_count": 9,
     "metadata": {},
     "output_type": "execute_result"
    }
   ],
   "source": [
    "df.isnull().sum()"
   ]
  },
  {
   "cell_type": "code",
   "execution_count": 10,
   "metadata": {},
   "outputs": [
    {
     "data": {
      "text/plain": [
       "lesion_id       700\n",
       "image_id        700\n",
       "dx              700\n",
       "dx_type         700\n",
       "age             700\n",
       "sex             700\n",
       "localization    700\n",
       "dtype: int64"
      ]
     },
     "execution_count": 10,
     "metadata": {},
     "output_type": "execute_result"
    }
   ],
   "source": [
    "df.count()"
   ]
  },
  {
   "cell_type": "code",
   "execution_count": 11,
   "metadata": {},
   "outputs": [
    {
     "data": {
      "text/plain": [
       "lesion_id       0\n",
       "image_id        0\n",
       "dx              0\n",
       "dx_type         0\n",
       "age             0\n",
       "sex             0\n",
       "localization    0\n",
       "dtype: int64"
      ]
     },
     "execution_count": 11,
     "metadata": {},
     "output_type": "execute_result"
    }
   ],
   "source": [
    "df['age'].fillna(int(df['age'].mean()),inplace=True)\n",
    "df.isnull().sum()"
   ]
  },
  {
   "cell_type": "code",
   "execution_count": 12,
   "metadata": {},
   "outputs": [],
   "source": [
    "lesion_type_dict = {\n",
    "    'nv': 'Melanocytic nevi',\n",
    "    'mel': 'Melanoma',\n",
    "    'bkl': 'Benign keratosis-like lesions ',\n",
    "    'bcc': 'Basal cell carcinoma',\n",
    "    'akiec': 'Actinic keratoses',\n",
    "    'vasc': 'Vascular lesions',\n",
    "    'df': 'Dermatofibroma'\n",
    "}\n",
    "base_skin_dir = 'skinCancer'\n",
    "\n",
    "imageid_path_dict = {os.path.splitext(os.path.basename(x))[0]: x\n",
    "                     for x in glob(os.path.join(base_skin_dir, '*', '*.jpg'))}"
   ]
  },
  {
   "cell_type": "code",
   "execution_count": 13,
   "metadata": {},
   "outputs": [
    {
     "data": {
      "text/html": [
       "<div>\n",
       "<style scoped>\n",
       "    .dataframe tbody tr th:only-of-type {\n",
       "        vertical-align: middle;\n",
       "    }\n",
       "\n",
       "    .dataframe tbody tr th {\n",
       "        vertical-align: top;\n",
       "    }\n",
       "\n",
       "    .dataframe thead th {\n",
       "        text-align: right;\n",
       "    }\n",
       "</style>\n",
       "<table border=\"1\" class=\"dataframe\">\n",
       "  <thead>\n",
       "    <tr style=\"text-align: right;\">\n",
       "      <th></th>\n",
       "      <th>lesion_id</th>\n",
       "      <th>image_id</th>\n",
       "      <th>dx</th>\n",
       "      <th>dx_type</th>\n",
       "      <th>age</th>\n",
       "      <th>sex</th>\n",
       "      <th>localization</th>\n",
       "      <th>path</th>\n",
       "      <th>cell_type</th>\n",
       "      <th>cell_type_idx</th>\n",
       "    </tr>\n",
       "  </thead>\n",
       "  <tbody>\n",
       "    <tr>\n",
       "      <th>0</th>\n",
       "      <td>HAM_0000673</td>\n",
       "      <td>ISIC_0029659</td>\n",
       "      <td>akiec</td>\n",
       "      <td>histo</td>\n",
       "      <td>70</td>\n",
       "      <td>female</td>\n",
       "      <td>face</td>\n",
       "      <td>skinCancer\\HAM10000_images_part_2\\ISIC_0029659...</td>\n",
       "      <td>Actinic keratoses</td>\n",
       "      <td>0</td>\n",
       "    </tr>\n",
       "    <tr>\n",
       "      <th>1</th>\n",
       "      <td>HAM_0005282</td>\n",
       "      <td>ISIC_0025178</td>\n",
       "      <td>akiec</td>\n",
       "      <td>histo</td>\n",
       "      <td>65</td>\n",
       "      <td>male</td>\n",
       "      <td>lower extremity</td>\n",
       "      <td>skinCancer\\HAM10000_images_part_1\\ISIC_0025178...</td>\n",
       "      <td>Actinic keratoses</td>\n",
       "      <td>0</td>\n",
       "    </tr>\n",
       "    <tr>\n",
       "      <th>2</th>\n",
       "      <td>HAM_0006002</td>\n",
       "      <td>ISIC_0029915</td>\n",
       "      <td>akiec</td>\n",
       "      <td>histo</td>\n",
       "      <td>50</td>\n",
       "      <td>female</td>\n",
       "      <td>face</td>\n",
       "      <td>skinCancer\\HAM10000_images_part_2\\ISIC_0029915...</td>\n",
       "      <td>Actinic keratoses</td>\n",
       "      <td>0</td>\n",
       "    </tr>\n",
       "    <tr>\n",
       "      <th>3</th>\n",
       "      <td>HAM_0000549</td>\n",
       "      <td>ISIC_0029360</td>\n",
       "      <td>akiec</td>\n",
       "      <td>histo</td>\n",
       "      <td>70</td>\n",
       "      <td>male</td>\n",
       "      <td>upper extremity</td>\n",
       "      <td>skinCancer\\HAM10000_images_part_2\\ISIC_0029360...</td>\n",
       "      <td>Actinic keratoses</td>\n",
       "      <td>0</td>\n",
       "    </tr>\n",
       "    <tr>\n",
       "      <th>4</th>\n",
       "      <td>HAM_0000549</td>\n",
       "      <td>ISIC_0026152</td>\n",
       "      <td>akiec</td>\n",
       "      <td>histo</td>\n",
       "      <td>70</td>\n",
       "      <td>male</td>\n",
       "      <td>upper extremity</td>\n",
       "      <td>skinCancer\\HAM10000_images_part_1\\ISIC_0026152...</td>\n",
       "      <td>Actinic keratoses</td>\n",
       "      <td>0</td>\n",
       "    </tr>\n",
       "  </tbody>\n",
       "</table>\n",
       "</div>"
      ],
      "text/plain": [
       "     lesion_id      image_id     dx dx_type  age     sex     localization  \\\n",
       "0  HAM_0000673  ISIC_0029659  akiec   histo   70  female             face   \n",
       "1  HAM_0005282  ISIC_0025178  akiec   histo   65    male  lower extremity   \n",
       "2  HAM_0006002  ISIC_0029915  akiec   histo   50  female             face   \n",
       "3  HAM_0000549  ISIC_0029360  akiec   histo   70    male  upper extremity   \n",
       "4  HAM_0000549  ISIC_0026152  akiec   histo   70    male  upper extremity   \n",
       "\n",
       "                                                path          cell_type  \\\n",
       "0  skinCancer\\HAM10000_images_part_2\\ISIC_0029659...  Actinic keratoses   \n",
       "1  skinCancer\\HAM10000_images_part_1\\ISIC_0025178...  Actinic keratoses   \n",
       "2  skinCancer\\HAM10000_images_part_2\\ISIC_0029915...  Actinic keratoses   \n",
       "3  skinCancer\\HAM10000_images_part_2\\ISIC_0029360...  Actinic keratoses   \n",
       "4  skinCancer\\HAM10000_images_part_1\\ISIC_0026152...  Actinic keratoses   \n",
       "\n",
       "   cell_type_idx  \n",
       "0              0  \n",
       "1              0  \n",
       "2              0  \n",
       "3              0  \n",
       "4              0  "
      ]
     },
     "execution_count": 13,
     "metadata": {},
     "output_type": "execute_result"
    }
   ],
   "source": [
    "df['path'] = df['image_id'].map(imageid_path_dict.get)\n",
    "df['cell_type'] = df['dx'].map(lesion_type_dict.get) \n",
    "df['cell_type_idx'] = pd.Categorical(df['cell_type']).codes\n",
    "df.head()"
   ]
  },
  {
   "cell_type": "code",
   "execution_count": 14,
   "metadata": {},
   "outputs": [],
   "source": [
    "df['image'] = df['path'].map(lambda x: np.asarray(Image.open(x).resize((125,100))))"
   ]
  },
  {
   "cell_type": "code",
   "execution_count": 15,
   "metadata": {},
   "outputs": [
    {
     "data": {
      "text/plain": [
       "<AxesSubplot:title={'center':'CELL TYPE'}, ylabel='Count'>"
      ]
     },
     "execution_count": 15,
     "metadata": {},
     "output_type": "execute_result"
    },
    {
     "data": {
      "image/png": "[encoded data removed]",
      "text/plain": [
       "<Figure size 1440x720 with 4 Axes>"
      ]
     },
     "metadata": {
      "needs_background": "light"
     },
     "output_type": "display_data"
    }
   ],
   "source": [
    "plt.figure(figsize=(20,10))\n",
    "plt.subplots_adjust(left=0.125, bottom=1, right=0.9, top=2, hspace=0.2)\n",
    "plt.subplot(2,4,1)\n",
    "plt.title(\"AGE\",fontsize=15)\n",
    "plt.ylabel(\"Count\")\n",
    "df['age'].value_counts().plot.bar()\n",
    "\n",
    "plt.subplot(2,4,2)\n",
    "plt.title(\"GENDER\",fontsize=15)\n",
    "plt.ylabel(\"Count\")\n",
    "df['sex'].value_counts().plot.bar()\n",
    "\n",
    "plt.subplot(2,4,3)\n",
    "plt.title(\"localization\",fontsize=15)\n",
    "plt.ylabel(\"Count\")\n",
    "plt.xticks(rotation=45)\n",
    "df['localization'].value_counts().plot.bar()\n",
    "\n",
    "plt.subplot(2,4,4)\n",
    "plt.title(\"CELL TYPE\",fontsize=15)\n",
    "plt.ylabel(\"Count\")\n",
    "df['cell_type'].value_counts().plot.bar()"
   ]
  },
  {
   "cell_type": "code",
   "execution_count": 16,
   "metadata": {},
   "outputs": [
    {
     "data": {
      "image/png": "[encoded data removed]",
      "text/plain": [
       "<Figure size 1080x720 with 2 Axes>"
      ]
     },
     "metadata": {},
     "output_type": "display_data"
    }
   ],
   "source": [
    "plt.figure(figsize=(15,10))\n",
    "plt.subplot(1,2,1)\n",
    "df['dx'].value_counts().plot.pie(autopct=\"%1.1f%%\")\n",
    "plt.subplot(1,2,2)\n",
    "df['dx_type'].value_counts().plot.pie(autopct=\"%1.1f%%\")\n",
    "plt.show()"
   ]
  },
  {
   "cell_type": "code",
   "execution_count": 17,
   "metadata": {},
   "outputs": [
    {
     "data": {
      "text/html": [
       "<div>\n",
       "<style scoped>\n",
       "    .dataframe tbody tr th:only-of-type {\n",
       "        vertical-align: middle;\n",
       "    }\n",
       "\n",
       "    .dataframe tbody tr th {\n",
       "        vertical-align: top;\n",
       "    }\n",
       "\n",
       "    .dataframe thead th {\n",
       "        text-align: right;\n",
       "    }\n",
       "</style>\n",
       "<table border=\"1\" class=\"dataframe\">\n",
       "  <thead>\n",
       "    <tr style=\"text-align: right;\">\n",
       "      <th></th>\n",
       "      <th>lesion_id</th>\n",
       "      <th>dx</th>\n",
       "      <th>dx_type</th>\n",
       "      <th>age</th>\n",
       "      <th>sex</th>\n",
       "      <th>localization</th>\n",
       "      <th>path</th>\n",
       "      <th>cell_type</th>\n",
       "      <th>image</th>\n",
       "    </tr>\n",
       "  </thead>\n",
       "  <tbody>\n",
       "    <tr>\n",
       "      <th>0</th>\n",
       "      <td>HAM_0000673</td>\n",
       "      <td>akiec</td>\n",
       "      <td>histo</td>\n",
       "      <td>70</td>\n",
       "      <td>female</td>\n",
       "      <td>face</td>\n",
       "      <td>skinCancer\\HAM10000_images_part_2\\ISIC_0029659...</td>\n",
       "      <td>Actinic keratoses</td>\n",
       "      <td>[[[192, 126, 127], [190, 124, 125], [185, 117,...</td>\n",
       "    </tr>\n",
       "    <tr>\n",
       "      <th>1</th>\n",
       "      <td>HAM_0005282</td>\n",
       "      <td>akiec</td>\n",
       "      <td>histo</td>\n",
       "      <td>65</td>\n",
       "      <td>male</td>\n",
       "      <td>lower extremity</td>\n",
       "      <td>skinCancer\\HAM10000_images_part_1\\ISIC_0025178...</td>\n",
       "      <td>Actinic keratoses</td>\n",
       "      <td>[[[209, 169, 180], [211, 169, 178], [210, 170,...</td>\n",
       "    </tr>\n",
       "    <tr>\n",
       "      <th>2</th>\n",
       "      <td>HAM_0006002</td>\n",
       "      <td>akiec</td>\n",
       "      <td>histo</td>\n",
       "      <td>50</td>\n",
       "      <td>female</td>\n",
       "      <td>face</td>\n",
       "      <td>skinCancer\\HAM10000_images_part_2\\ISIC_0029915...</td>\n",
       "      <td>Actinic keratoses</td>\n",
       "      <td>[[[27, 15, 13], [30, 15, 15], [32, 16, 16], [3...</td>\n",
       "    </tr>\n",
       "    <tr>\n",
       "      <th>3</th>\n",
       "      <td>HAM_0000549</td>\n",
       "      <td>akiec</td>\n",
       "      <td>histo</td>\n",
       "      <td>70</td>\n",
       "      <td>male</td>\n",
       "      <td>upper extremity</td>\n",
       "      <td>skinCancer\\HAM10000_images_part_2\\ISIC_0029360...</td>\n",
       "      <td>Actinic keratoses</td>\n",
       "      <td>[[[16, 7, 12], [19, 8, 12], [20, 9, 12], [22, ...</td>\n",
       "    </tr>\n",
       "    <tr>\n",
       "      <th>4</th>\n",
       "      <td>HAM_0000549</td>\n",
       "      <td>akiec</td>\n",
       "      <td>histo</td>\n",
       "      <td>70</td>\n",
       "      <td>male</td>\n",
       "      <td>upper extremity</td>\n",
       "      <td>skinCancer\\HAM10000_images_part_1\\ISIC_0026152...</td>\n",
       "      <td>Actinic keratoses</td>\n",
       "      <td>[[[191, 165, 195], [194, 168, 196], [196, 172,...</td>\n",
       "    </tr>\n",
       "  </tbody>\n",
       "</table>\n",
       "</div>"
      ],
      "text/plain": [
       "     lesion_id     dx dx_type  age     sex     localization  \\\n",
       "0  HAM_0000673  akiec   histo   70  female             face   \n",
       "1  HAM_0005282  akiec   histo   65    male  lower extremity   \n",
       "2  HAM_0006002  akiec   histo   50  female             face   \n",
       "3  HAM_0000549  akiec   histo   70    male  upper extremity   \n",
       "4  HAM_0000549  akiec   histo   70    male  upper extremity   \n",
       "\n",
       "                                                path          cell_type  \\\n",
       "0  skinCancer\\HAM10000_images_part_2\\ISIC_0029659...  Actinic keratoses   \n",
       "1  skinCancer\\HAM10000_images_part_1\\ISIC_0025178...  Actinic keratoses   \n",
       "2  skinCancer\\HAM10000_images_part_2\\ISIC_0029915...  Actinic keratoses   \n",
       "3  skinCancer\\HAM10000_images_part_2\\ISIC_0029360...  Actinic keratoses   \n",
       "4  skinCancer\\HAM10000_images_part_1\\ISIC_0026152...  Actinic keratoses   \n",
       "\n",
       "                                               image  \n",
       "0  [[[192, 126, 127], [190, 124, 125], [185, 117,...  \n",
       "1  [[[209, 169, 180], [211, 169, 178], [210, 170,...  \n",
       "2  [[[27, 15, 13], [30, 15, 15], [32, 16, 16], [3...  \n",
       "3  [[[16, 7, 12], [19, 8, 12], [20, 9, 12], [22, ...  \n",
       "4  [[[191, 165, 195], [194, 168, 196], [196, 172,...  "
      ]
     },
     "execution_count": 17,
     "metadata": {},
     "output_type": "execute_result"
    }
   ],
   "source": [
    "features=df.drop(columns=['cell_type_idx','image_id'],axis=1)\n",
    "target=df['cell_type_idx']\n",
    "features.head()"
   ]
  },
  {
   "cell_type": "code",
   "execution_count": 18,
   "metadata": {},
   "outputs": [
    {
     "data": {
      "text/plain": [
       "Unique(y=<tf.Tensor: shape=(7,), dtype=string, numpy=\n",
       "array([b'Melanoma', b'Benign keratosis-like lesions ',\n",
       "       b'Melanocytic nevi', b'Actinic keratoses', b'Dermatofibroma',\n",
       "       b'Basal cell carcinoma', b'Vascular lesions'], dtype=object)>, idx=<tf.Tensor: shape=(525,), dtype=int32, numpy=\n",
       "array([0, 1, 0, 0, 0, 2, 3, 4, 0, 0, 1, 0, 3, 1, 2, 3, 5, 3, 2, 1, 4, 3,\n",
       "       3, 1, 6, 0, 1, 4, 4, 0, 2, 6, 6, 0, 3, 5, 4, 2, 4, 6, 6, 2, 6, 3,\n",
       "       1, 6, 2, 4, 3, 2, 5, 4, 1, 5, 1, 6, 2, 5, 3, 2, 5, 0, 0, 0, 4, 6,\n",
       "       4, 4, 1, 4, 0, 2, 0, 0, 3, 5, 6, 6, 3, 5, 3, 3, 0, 0, 1, 1, 1, 6,\n",
       "       5, 2, 3, 5, 3, 1, 4, 3, 0, 1, 5, 5, 0, 0, 6, 5, 3, 4, 0, 4, 4, 6,\n",
       "       6, 4, 3, 4, 0, 5, 6, 1, 2, 5, 2, 3, 5, 4, 5, 0, 0, 2, 2, 3, 0, 6,\n",
       "       4, 2, 3, 2, 5, 2, 1, 1, 6, 3, 0, 5, 0, 5, 2, 6, 6, 2, 6, 2, 2, 6,\n",
       "       6, 1, 0, 2, 4, 2, 6, 1, 6, 4, 6, 2, 5, 1, 3, 2, 3, 3, 1, 5, 3, 3,\n",
       "       4, 0, 2, 3, 5, 5, 1, 3, 3, 5, 4, 6, 0, 6, 3, 5, 6, 4, 0, 2, 2, 1,\n",
       "       2, 6, 2, 4, 3, 1, 1, 5, 2, 0, 5, 6, 3, 4, 0, 5, 5, 3, 5, 2, 1, 3,\n",
       "       6, 6, 2, 1, 6, 0, 1, 1, 4, 2, 6, 0, 6, 4, 1, 1, 5, 6, 6, 1, 0, 0,\n",
       "       6, 4, 4, 4, 2, 1, 2, 2, 1, 6, 4, 0, 4, 3, 0, 1, 6, 5, 2, 5, 6, 0,\n",
       "       1, 5, 6, 4, 3, 6, 6, 1, 2, 6, 5, 0, 4, 0, 2, 3, 3, 4, 6, 4, 6, 3,\n",
       "       0, 4, 1, 0, 5, 0, 2, 5, 5, 2, 4, 2, 5, 2, 0, 6, 2, 0, 5, 1, 2, 5,\n",
       "       1, 6, 2, 0, 3, 1, 4, 1, 2, 0, 4, 0, 6, 5, 6, 1, 1, 2, 0, 0, 5, 0,\n",
       "       2, 3, 2, 1, 2, 0, 1, 2, 4, 5, 1, 4, 1, 2, 5, 2, 0, 4, 2, 2, 5, 4,\n",
       "       5, 1, 4, 2, 1, 4, 1, 3, 0, 5, 6, 3, 4, 4, 6, 3, 3, 3, 4, 1, 4, 2,\n",
       "       5, 5, 0, 6, 6, 0, 6, 4, 4, 2, 5, 1, 1, 4, 0, 5, 4, 3, 1, 1, 3, 5,\n",
       "       6, 3, 6, 1, 0, 4, 5, 5, 2, 3, 3, 6, 0, 5, 2, 4, 6, 0, 1, 5, 3, 2,\n",
       "       0, 2, 5, 0, 3, 1, 5, 4, 4, 6, 0, 3, 0, 6, 5, 1, 1, 5, 0, 3, 2, 5,\n",
       "       0, 6, 0, 6, 6, 1, 5, 1, 1, 5, 4, 0, 5, 1, 0, 0, 5, 4, 3, 2, 6, 5,\n",
       "       6, 4, 3, 3, 6, 5, 2, 4, 3, 3, 0, 4, 2, 3, 3, 2, 3, 5, 3, 0, 4, 2,\n",
       "       6, 3, 6, 0, 3, 1, 2, 2, 4, 5, 2, 0, 6, 5, 3, 4, 4, 1, 2, 6, 4, 3,\n",
       "       4, 6, 4, 6, 3, 1, 3, 1, 0, 4, 3, 0, 6, 3, 1, 1, 3, 1, 6])>)"
      ]
     },
     "execution_count": 18,
     "metadata": {},
     "output_type": "execute_result"
    }
   ],
   "source": [
    "x_train_o, x_test_o, y_train_o, y_test_o = train_test_split(features, target, test_size = 0.25,random_state=666)\n",
    "tf.unique(x_train_o.cell_type.values)"
   ]
  },
  {
   "cell_type": "code",
   "execution_count": 19,
   "metadata": {},
   "outputs": [],
   "source": [
    "x_train = np.asarray(x_train_o['image'].tolist())\n",
    "x_test = np.asarray(x_test_o['image'].tolist())\n",
    "\n",
    "x_train_mean = np.mean(x_train)\n",
    "x_train_std = np.std(x_train)\n",
    "\n",
    "\n",
    "x_test_mean = np.mean(x_test)\n",
    "x_test_std = np.std(x_test)\n",
    "\n",
    "x_train = (x_train - x_train_mean)/x_train_std\n",
    "x_test = (x_test - x_test_mean)/x_test_std"
   ]
  },
  {
   "cell_type": "code",
   "execution_count": 20,
   "metadata": {},
   "outputs": [
    {
     "data": {
      "text/plain": [
       "array([[0., 1., 0., ..., 0., 0., 0.],\n",
       "       [0., 0., 0., ..., 0., 0., 1.],\n",
       "       [1., 0., 0., ..., 0., 0., 0.],\n",
       "       ...,\n",
       "       [0., 0., 0., ..., 1., 0., 0.],\n",
       "       [0., 0., 0., ..., 0., 0., 1.],\n",
       "       [0., 0., 0., ..., 0., 0., 1.]], dtype=float32)"
      ]
     },
     "execution_count": 20,
     "metadata": {},
     "output_type": "execute_result"
    }
   ],
   "source": [
    "# Perform one-hot encoding on the labels\n",
    "y_train = to_categorical(y_train_o, num_classes = 7)\n",
    "y_test = to_categorical(y_test_o, num_classes = 7)\n",
    "y_test"
   ]
  },
  {
   "cell_type": "code",
   "execution_count": 21,
   "metadata": {},
   "outputs": [
    {
     "data": {
      "text/plain": [
       "array([0., 0., 0., 0., 0., 0., 1.], dtype=float32)"
      ]
     },
     "execution_count": 21,
     "metadata": {},
     "output_type": "execute_result"
    }
   ],
   "source": [
    "y_test[1]"
   ]
  },
  {
   "cell_type": "code",
   "execution_count": 22,
   "metadata": {},
   "outputs": [
    {
     "data": {
      "text/plain": [
       "array([[0., 0., 0., ..., 0., 1., 0.],\n",
       "       [0., 0., 1., ..., 0., 0., 0.],\n",
       "       [0., 0., 0., ..., 0., 1., 0.],\n",
       "       ...,\n",
       "       [1., 0., 0., ..., 0., 0., 0.],\n",
       "       [0., 0., 1., ..., 0., 0., 0.],\n",
       "       [0., 0., 0., ..., 0., 0., 1.]], dtype=float32)"
      ]
     },
     "execution_count": 22,
     "metadata": {},
     "output_type": "execute_result"
    }
   ],
   "source": [
    "y_train"
   ]
  },
  {
   "cell_type": "code",
   "execution_count": 23,
   "metadata": {},
   "outputs": [
    {
     "data": {
      "text/plain": [
       "1    28\n",
       "2    27\n",
       "3    27\n",
       "0    25\n",
       "4    24\n",
       "6    23\n",
       "5    21\n",
       "Name: cell_type_idx, dtype: int64"
      ]
     },
     "execution_count": 23,
     "metadata": {},
     "output_type": "execute_result"
    }
   ],
   "source": [
    "y_test_o.value_counts()"
   ]
  },
  {
   "cell_type": "code",
   "execution_count": 24,
   "metadata": {},
   "outputs": [],
   "source": [
    "# x_train, x_validate, y_train, y_validate = train_test_split(x_train, y_train, test_size = 0.2, random_state = 20)\n",
    "\n",
    "\n",
    "# Reshape image in 3 dimensions (height = 100, width = 125 , canal = 3)\n",
    "x_train = x_train.reshape(x_train_o.shape[0], *(100, 125, 3))\n",
    "x_test = x_test.reshape(x_test_o.shape[0], *(100, 125, 3))\n"
   ]
  },
  {
   "cell_type": "code",
   "execution_count": 25,
   "metadata": {},
   "outputs": [
    {
     "name": "stdout",
     "output_type": "stream",
     "text": [
      "(525, 37500)\n",
      "(175, 37500)\n"
     ]
    }
   ],
   "source": [
    "x_train = x_train.reshape(x_train.shape[0],125*100*3)\n",
    "x_test = x_test.reshape(x_test.shape[0],125*100*3)\n",
    "print(x_train.shape)\n",
    "print(x_test.shape)"
   ]
  },
  {
   "cell_type": "code",
   "execution_count": 26,
   "metadata": {},
   "outputs": [
    {
     "name": "stdout",
     "output_type": "stream",
     "text": [
      "[[-0.09140732 -0.49162806 -0.46808566 ...  0.23818623 -0.02078013\n",
      "   0.12047425]\n",
      " [ 0.07338946 -0.79767921 -0.09140732 ...  0.04984706 -0.44454326\n",
      "   0.16755904]\n",
      " [-0.11494971 -0.44454326 -0.2091193  ...  0.02630467 -0.42100087\n",
      "  -0.1855769 ]\n",
      " ...\n",
      " [ 1.22696689  0.23818623  0.70903416 ...  1.58010283 -0.1855769\n",
      "   0.54423739]\n",
      " [-0.13849211 -0.70350962 -0.65642483 ... -0.32683128 -0.72705202\n",
      "  -0.75059442]\n",
      " [ 1.60364523  0.61486458  0.70903416 ...  1.55656044  0.77966135\n",
      "   0.77966135]]\n"
     ]
    }
   ],
   "source": [
    "print(x_train)"
   ]
  },
  {
   "cell_type": "markdown",
   "metadata": {},
   "source": [
    "### Decision Tree"
   ]
  },
  {
   "cell_type": "code",
   "execution_count": 27,
   "metadata": {},
   "outputs": [
    {
     "name": "stdout",
     "output_type": "stream",
     "text": [
      "1\n",
      "6\n",
      "11\n",
      "16\n",
      "21\n",
      "26\n",
      "31\n",
      "36\n",
      "41\n",
      "46\n"
     ]
    },
    {
     "data": {
      "text/plain": [
       "<matplotlib.legend.Legend at 0x176832bef40>"
      ]
     },
     "execution_count": 27,
     "metadata": {},
     "output_type": "execute_result"
    },
    {
     "data": {
      "image/png": "[encoded data removed]",
      "text/plain": [
       "<Figure size 432x288 with 1 Axes>"
      ]
     },
     "metadata": {
      "needs_background": "light"
     },
     "output_type": "display_data"
    }
   ],
   "source": [
    "depth = range(1,51,5)\n",
    "testing_accuracy = []\n",
    "training_accuracy = []\n",
    "score = 0\n",
    "\n",
    "for i in depth:\n",
    "    tree = DecisionTreeClassifier(max_depth = i, criterion = 'entropy')\n",
    "    tree.fit(x_train, y_train)\n",
    "    \n",
    "    y_predict_train = tree.predict(x_train)\n",
    "    training_accuracy.append(accuracy_score(y_train, y_predict_train))\n",
    "    \n",
    "    y_predict_test = tree.predict(x_test)\n",
    "    acc_score = accuracy_score(y_test,y_predict_test)\n",
    "    testing_accuracy.append(acc_score)\n",
    "    \n",
    "    print(i)\n",
    "\n",
    "    if score < acc_score:\n",
    "        score = acc_score\n",
    "        best_depth = i\n",
    "        \n",
    "sns.lineplot(depth, training_accuracy)\n",
    "sns.scatterplot(depth, training_accuracy)\n",
    "sns.lineplot(depth, testing_accuracy)\n",
    "sns.scatterplot(depth, testing_accuracy)\n",
    "plt.legend(['training accuracy', 'testing accuracy'])"
   ]
  },
  {
   "cell_type": "code",
   "execution_count": 28,
   "metadata": {},
   "outputs": [
    {
     "name": "stdout",
     "output_type": "stream",
     "text": [
      "This is the best depth for Decision Tree Classifier:  31 \n",
      "Accuracy score is:  0.4514285714285714\n",
      "Confusion Matrix: \n",
      " [[15  3  0  1  2  2  2]\n",
      " [ 4  9  1  7  2  3  2]\n",
      " [ 0  1 14  3  1  5  3]\n",
      " [ 6  4  2 10  2  1  2]\n",
      " [ 3  6  1  2  7  2  3]\n",
      " [ 1  2  3  2  2 11  0]\n",
      " [ 1  2  3  2  2  3 10]]\n",
      "Classification Report: \n",
      "               precision    recall  f1-score   support\n",
      "\n",
      "           0       0.50      0.60      0.55        25\n",
      "           1       0.33      0.32      0.33        28\n",
      "           2       0.58      0.52      0.55        27\n",
      "           3       0.37      0.37      0.37        27\n",
      "           4       0.39      0.29      0.33        24\n",
      "           5       0.41      0.52      0.46        21\n",
      "           6       0.45      0.43      0.44        23\n",
      "\n",
      "    accuracy                           0.43       175\n",
      "   macro avg       0.43      0.44      0.43       175\n",
      "weighted avg       0.43      0.43      0.43       175\n",
      "\n"
     ]
    }
   ],
   "source": [
    "print('This is the best depth for Decision Tree Classifier: ', best_depth, '\\nAccuracy score is: ', score)\n",
    "result = confusion_matrix(y_test.argmax(axis=1), y_predict_test.argmax(axis=1),)\n",
    "print(\"Confusion Matrix:\",\"\\n\", result)\n",
    "report = classification_report(y_test.argmax(axis=1), y_predict_test.argmax(axis=1),)\n",
    "print(\"Classification Report:\" , \"\\n\", report)"
   ]
  },
  {
   "cell_type": "markdown",
   "metadata": {},
   "source": [
    "### Random Forest"
   ]
  },
  {
   "cell_type": "code",
   "execution_count": 29,
   "metadata": {},
   "outputs": [
    {
     "name": "stdout",
     "output_type": "stream",
     "text": [
      "5\n",
      "10\n",
      "15\n",
      "20\n",
      "25\n",
      "30\n",
      "35\n",
      "40\n",
      "45\n",
      "50\n"
     ]
    },
    {
     "data": {
      "text/plain": [
       "<matplotlib.legend.Legend at 0x1768335cc10>"
      ]
     },
     "execution_count": 29,
     "metadata": {},
     "output_type": "execute_result"
    },
    {
     "data": {
      "image/png": "[encoded data removed]",
      "text/plain": [
       "<Figure size 432x288 with 1 Axes>"
      ]
     },
     "metadata": {
      "needs_background": "light"
     },
     "output_type": "display_data"
    }
   ],
   "source": [
    "#random Forest\n",
    "depth = range(5,51,5)\n",
    "testing_accuracy = []\n",
    "training_accuracy = []\n",
    "score = 0\n",
    "\n",
    "for i in depth:\n",
    "    tree = RandomForestClassifier(max_depth = i, criterion = 'gini', random_state=6)\n",
    "    tree.fit(x_train, y_train)\n",
    "    \n",
    "    y_predict_train = tree.predict(x_train)\n",
    "    training_accuracy.append(accuracy_score(y_train, y_predict_train))\n",
    "    \n",
    "    y_predict_test = tree.predict(x_test)\n",
    "    acc_score = accuracy_score(y_test,y_predict_test)\n",
    "    testing_accuracy.append(acc_score)\n",
    "    \n",
    "    print(i)\n",
    "\n",
    "    if score < acc_score:\n",
    "        score = acc_score\n",
    "        best_depth = i\n",
    "        \n",
    "sns.lineplot(depth, training_accuracy)\n",
    "sns.scatterplot(depth, training_accuracy)\n",
    "sns.lineplot(depth, testing_accuracy)\n",
    "sns.scatterplot(depth, testing_accuracy)\n",
    "plt.legend(['training accuracy', 'testing accuracy'])"
   ]
  },
  {
   "cell_type": "code",
   "execution_count": 30,
   "metadata": {},
   "outputs": [
    {
     "name": "stdout",
     "output_type": "stream",
     "text": [
      "This is the best depth for Decision Tree Classifier:  10 \n",
      "Accuracy score is:  0.13142857142857142\n",
      "Confusion Matrix: \n",
      " [[25  0  0  0  0  0  0]\n",
      " [25  2  0  0  1  0  0]\n",
      " [15  0  6  0  0  6  0]\n",
      " [26  0  0  1  0  0  0]\n",
      " [19  0  0  0  5  0  0]\n",
      " [15  0  2  0  0  4  0]\n",
      " [19  0  0  0  0  0  4]]\n",
      "Classification Report: \n",
      "               precision    recall  f1-score   support\n",
      "\n",
      "           0       0.17      1.00      0.30        25\n",
      "           1       1.00      0.07      0.13        28\n",
      "           2       0.75      0.22      0.34        27\n",
      "           3       1.00      0.04      0.07        27\n",
      "           4       0.83      0.21      0.33        24\n",
      "           5       0.40      0.19      0.26        21\n",
      "           6       1.00      0.17      0.30        23\n",
      "\n",
      "    accuracy                           0.27       175\n",
      "   macro avg       0.74      0.27      0.25       175\n",
      "weighted avg       0.75      0.27      0.24       175\n",
      "\n"
     ]
    }
   ],
   "source": [
    "print('This is the best depth for Decision Tree Classifier: ', best_depth, '\\nAccuracy score is: ', score)\n",
    "result = confusion_matrix(y_test.argmax(axis=1), y_predict_test.argmax(axis=1),)\n",
    "print(\"Confusion Matrix:\",\"\\n\", result)\n",
    "report = classification_report(y_test.argmax(axis=1), y_predict_test.argmax(axis=1),)\n",
    "print(\"Classification Report:\" , \"\\n\", report)"
   ]
  },
  {
   "cell_type": "markdown",
   "metadata": {},
   "source": [
    "### KNN"
   ]
  },
  {
   "cell_type": "code",
   "execution_count": 31,
   "metadata": {},
   "outputs": [
    {
     "name": "stdout",
     "output_type": "stream",
     "text": [
      "1\n",
      "3\n",
      "5\n",
      "7\n",
      "9\n",
      "11\n",
      "13\n",
      "15\n",
      "17\n",
      "19\n",
      "21\n",
      "23\n",
      "25\n",
      "27\n",
      "29\n",
      "31\n",
      "33\n",
      "35\n",
      "37\n",
      "39\n",
      "41\n",
      "43\n",
      "45\n",
      "47\n",
      "49\n",
      "51\n",
      "53\n",
      "55\n",
      "57\n",
      "59\n",
      "61\n",
      "63\n",
      "65\n",
      "67\n",
      "69\n",
      "71\n",
      "73\n",
      "75\n",
      "77\n",
      "79\n",
      "81\n",
      "83\n",
      "85\n",
      "87\n",
      "89\n",
      "91\n",
      "93\n",
      "95\n",
      "97\n",
      "99\n",
      "101\n",
      "103\n",
      "105\n",
      "107\n",
      "109\n",
      "111\n",
      "113\n",
      "115\n",
      "117\n",
      "119\n",
      "121\n",
      "123\n",
      "125\n",
      "127\n",
      "129\n",
      "131\n",
      "133\n",
      "135\n",
      "137\n",
      "139\n",
      "141\n",
      "143\n",
      "145\n",
      "147\n",
      "149\n",
      "151\n",
      "153\n",
      "155\n",
      "157\n",
      "159\n",
      "161\n",
      "163\n",
      "165\n",
      "167\n",
      "169\n",
      "171\n",
      "173\n",
      "175\n",
      "177\n",
      "179\n",
      "181\n",
      "183\n",
      "185\n",
      "187\n",
      "189\n",
      "191\n",
      "193\n",
      "195\n",
      "197\n",
      "199\n",
      "201\n",
      "203\n",
      "205\n",
      "207\n",
      "209\n",
      "211\n",
      "213\n",
      "215\n",
      "217\n",
      "219\n",
      "221\n",
      "223\n",
      "225\n",
      "227\n",
      "229\n",
      "231\n",
      "233\n",
      "235\n",
      "237\n",
      "239\n",
      "241\n",
      "243\n",
      "245\n",
      "247\n",
      "249\n",
      "251\n",
      "253\n",
      "255\n",
      "257\n",
      "259\n",
      "261\n",
      "263\n",
      "265\n",
      "267\n",
      "269\n",
      "271\n",
      "273\n",
      "275\n",
      "277\n",
      "279\n",
      "281\n",
      "283\n",
      "285\n",
      "287\n",
      "289\n",
      "291\n",
      "293\n",
      "295\n",
      "297\n",
      "299\n",
      "301\n",
      "303\n",
      "305\n",
      "307\n",
      "309\n",
      "311\n",
      "313\n",
      "315\n",
      "317\n",
      "319\n",
      "321\n",
      "323\n",
      "325\n",
      "327\n",
      "329\n",
      "331\n",
      "333\n",
      "335\n",
      "337\n",
      "339\n",
      "341\n",
      "343\n",
      "345\n",
      "347\n",
      "349\n",
      "351\n",
      "353\n",
      "355\n",
      "357\n",
      "359\n",
      "361\n",
      "363\n",
      "365\n",
      "367\n",
      "369\n",
      "371\n",
      "373\n",
      "375\n",
      "377\n",
      "379\n",
      "381\n",
      "383\n",
      "385\n",
      "387\n",
      "389\n",
      "391\n",
      "393\n",
      "395\n",
      "397\n",
      "399\n",
      "401\n",
      "403\n",
      "405\n",
      "407\n",
      "409\n",
      "411\n",
      "413\n",
      "415\n",
      "417\n",
      "419\n",
      "421\n",
      "423\n",
      "425\n",
      "427\n",
      "429\n",
      "431\n",
      "433\n",
      "435\n",
      "437\n",
      "439\n",
      "441\n",
      "443\n",
      "445\n",
      "447\n",
      "449\n",
      "451\n",
      "453\n",
      "455\n",
      "457\n",
      "459\n",
      "461\n",
      "463\n",
      "465\n",
      "467\n",
      "469\n",
      "471\n",
      "473\n",
      "475\n",
      "477\n",
      "479\n",
      "481\n",
      "483\n",
      "485\n",
      "487\n",
      "489\n",
      "491\n",
      "493\n",
      "495\n",
      "497\n",
      "499\n"
     ]
    },
    {
     "data": {
      "text/plain": [
       "<matplotlib.legend.Legend at 0x176834059a0>"
      ]
     },
     "execution_count": 31,
     "metadata": {},
     "output_type": "execute_result"
    },
    {
     "data": {
      "image/png": "[encoded data removed]",
      "text/plain": [
       "<Figure size 432x288 with 1 Axes>"
      ]
     },
     "metadata": {
      "needs_background": "light"
     },
     "output_type": "display_data"
    }
   ],
   "source": [
    "k = range(1,500,2)\n",
    "testing_accuracy = []\n",
    "training_accuracy = []\n",
    "score = 0\n",
    "\n",
    "for i in k:\n",
    "    knn = KNeighborsClassifier(n_neighbors = i)\n",
    "    knn.fit(x_train, y_train)\n",
    "    \n",
    "    y_predict_train = knn.predict(x_train)\n",
    "    training_accuracy.append(accuracy_score(y_train, y_predict_train))\n",
    "    \n",
    "    y_predict_test = knn.predict(x_test)\n",
    "    acc_score = accuracy_score(y_test,y_predict_test)\n",
    "    testing_accuracy.append(acc_score)\n",
    "    \n",
    "    print(i)\n",
    "\n",
    "    if score < acc_score:\n",
    "        score = acc_score\n",
    "        best_k = i\n",
    "        \n",
    "        \n",
    "sns.lineplot(k, training_accuracy)\n",
    "sns.scatterplot(k, training_accuracy)\n",
    "sns.lineplot(k, testing_accuracy)\n",
    "sns.scatterplot(k, testing_accuracy)\n",
    "plt.legend(['training accuracy', 'testing accuracy'])"
   ]
  },
  {
   "cell_type": "code",
   "execution_count": 32,
   "metadata": {},
   "outputs": [
    {
     "name": "stdout",
     "output_type": "stream",
     "text": [
      "Confusion Matrix: \n",
      " [[25  0  0  0  0  0  0]\n",
      " [28  0  0  0  0  0  0]\n",
      " [27  0  0  0  0  0  0]\n",
      " [27  0  0  0  0  0  0]\n",
      " [24  0  0  0  0  0  0]\n",
      " [21  0  0  0  0  0  0]\n",
      " [23  0  0  0  0  0  0]]\n",
      "Classification Report: \n",
      "               precision    recall  f1-score   support\n",
      "\n",
      "           0       0.14      1.00      0.25        25\n",
      "           1       0.00      0.00      0.00        28\n",
      "           2       0.00      0.00      0.00        27\n",
      "           3       0.00      0.00      0.00        27\n",
      "           4       0.00      0.00      0.00        24\n",
      "           5       0.00      0.00      0.00        21\n",
      "           6       0.00      0.00      0.00        23\n",
      "\n",
      "    accuracy                           0.14       175\n",
      "   macro avg       0.02      0.14      0.04       175\n",
      "weighted avg       0.02      0.14      0.04       175\n",
      "\n"
     ]
    }
   ],
   "source": [
    "'''print('This is the best depth for Decision Tree Classifier: ', best_depth, '\\nAccuracy score is: ', score)'''\n",
    "result = confusion_matrix(y_test.argmax(axis=1), y_predict_test.argmax(axis=1),)\n",
    "print(\"Confusion Matrix:\",\"\\n\", result)\n",
    "report = classification_report(y_test.argmax(axis=1), y_predict_test.argmax(axis=1),)\n",
    "print(\"Classification Report:\" , \"\\n\", report)"
   ]
  },
  {
   "cell_type": "code",
   "execution_count": 33,
   "metadata": {},
   "outputs": [
    {
     "data": {
      "text/plain": [
       "(525, 100, 125, 3)"
      ]
     },
     "execution_count": 33,
     "metadata": {},
     "output_type": "execute_result"
    }
   ],
   "source": [
    "x_train = x_train.reshape(x_train_o.shape[0], *(100, 125, 3))\n",
    "x_test = x_test.reshape(x_test_o.shape[0], *(100, 125, 3))\n",
    "x_train.shape"
   ]
  },
  {
   "cell_type": "markdown",
   "metadata": {},
   "source": [
    "### MLP"
   ]
  },
  {
   "cell_type": "code",
   "execution_count": 36,
   "metadata": {},
   "outputs": [
    {
     "name": "stdout",
     "output_type": "stream",
     "text": [
      "Model: \"sequential_1\"\n",
      "_________________________________________________________________\n",
      " Layer (type)                Output Shape              Param #   \n",
      "=================================================================\n",
      " dense_5 (Dense)             (None, 128)               4800128   \n",
      "                                                                 \n",
      " dense_6 (Dense)             (None, 256)               33024     \n",
      "                                                                 \n",
      " dense_7 (Dense)             (None, 512)               131584    \n",
      "                                                                 \n",
      " dense_8 (Dense)             (None, 64)                32832     \n",
      "                                                                 \n",
      " dense_9 (Dense)             (None, 7)                 455       \n",
      "                                                                 \n",
      "=================================================================\n",
      "Total params: 4,998,023\n",
      "Trainable params: 4,998,023\n",
      "Non-trainable params: 0\n",
      "_________________________________________________________________\n"
     ]
    }
   ],
   "source": [
    "x_train = x_train.reshape(x_train.shape[0],125*100*3)\n",
    "x_test = x_test.reshape(x_test.shape[0],125*100*3)\n",
    "\n",
    "# define the keras model\n",
    "model = Sequential()\n",
    "\n",
    "model.add(Dense(units= 128, kernel_initializer = 'uniform', activation = 'relu', input_dim = 37500))\n",
    "model.add(Dense(units= 256, kernel_initializer = 'uniform', activation = 'relu'))\n",
    "model.add(Dense(units= 512, kernel_initializer = 'uniform', activation = 'relu'))\n",
    "model.add(Dense(units= 64, kernel_initializer = 'uniform', activation = 'relu'))\n",
    "model.add(Dense(units = 7, kernel_initializer = 'uniform', activation = 'softmax'))\n",
    "model.summary()"
   ]
  },
  {
   "cell_type": "code",
   "execution_count": 37,
   "metadata": {},
   "outputs": [
    {
     "name": "stdout",
     "output_type": "stream",
     "text": [
      "Epoch 1/25\n",
      "2/2 [==============================] - 1s 29ms/step - loss: 1.9491 - accuracy: 0.1257\n",
      "Epoch 2/25\n",
      "2/2 [==============================] - 0s 13ms/step - loss: 1.8978 - accuracy: 0.1905\n",
      "Epoch 3/25\n",
      "2/2 [==============================] - 0s 13ms/step - loss: 1.7399 - accuracy: 0.3390\n",
      "Epoch 4/25\n",
      "2/2 [==============================] - 0s 13ms/step - loss: 1.6039 - accuracy: 0.3562\n",
      "Epoch 5/25\n",
      "2/2 [==============================] - 0s 12ms/step - loss: 1.4988 - accuracy: 0.3524\n",
      "Epoch 6/25\n",
      "2/2 [==============================] - 0s 15ms/step - loss: 1.4950 - accuracy: 0.3657\n",
      "Epoch 7/25\n",
      "2/2 [==============================] - 0s 13ms/step - loss: 1.3831 - accuracy: 0.4000\n",
      "Epoch 8/25\n",
      "2/2 [==============================] - 0s 12ms/step - loss: 1.3151 - accuracy: 0.4495\n",
      "Epoch 9/25\n",
      "2/2 [==============================] - 0s 14ms/step - loss: 1.3002 - accuracy: 0.4705\n",
      "Epoch 10/25\n",
      "2/2 [==============================] - 0s 14ms/step - loss: 1.2552 - accuracy: 0.4933\n",
      "Epoch 11/25\n",
      "2/2 [==============================] - 0s 13ms/step - loss: 1.3706 - accuracy: 0.4324\n",
      "Epoch 12/25\n",
      "2/2 [==============================] - 0s 14ms/step - loss: 1.2265 - accuracy: 0.4990\n",
      "Epoch 13/25\n",
      "2/2 [==============================] - 0s 13ms/step - loss: 1.1778 - accuracy: 0.5029\n",
      "Epoch 14/25\n",
      "2/2 [==============================] - 0s 14ms/step - loss: 1.1279 - accuracy: 0.5467\n",
      "Epoch 15/25\n",
      "2/2 [==============================] - 0s 14ms/step - loss: 1.1085 - accuracy: 0.5410\n",
      "Epoch 16/25\n",
      "2/2 [==============================] - 0s 13ms/step - loss: 1.0667 - accuracy: 0.5581\n",
      "Epoch 17/25\n",
      "2/2 [==============================] - 0s 14ms/step - loss: 1.0408 - accuracy: 0.5733\n",
      "Epoch 18/25\n",
      "2/2 [==============================] - 0s 13ms/step - loss: 1.0052 - accuracy: 0.5676\n",
      "Epoch 19/25\n",
      "2/2 [==============================] - 0s 13ms/step - loss: 0.9885 - accuracy: 0.5981\n",
      "Epoch 20/25\n",
      "2/2 [==============================] - 0s 13ms/step - loss: 0.9567 - accuracy: 0.5943\n",
      "Epoch 21/25\n",
      "2/2 [==============================] - 0s 13ms/step - loss: 0.9513 - accuracy: 0.6210\n",
      "Epoch 22/25\n",
      "2/2 [==============================] - 0s 13ms/step - loss: 0.9449 - accuracy: 0.6000\n",
      "Epoch 23/25\n",
      "2/2 [==============================] - 0s 14ms/step - loss: 1.0138 - accuracy: 0.5733\n",
      "Epoch 24/25\n",
      "2/2 [==============================] - 0s 13ms/step - loss: 0.9050 - accuracy: 0.6190\n",
      "Epoch 25/25\n",
      "2/2 [==============================] - 0s 13ms/step - loss: 0.8578 - accuracy: 0.6533\n"
     ]
    }
   ],
   "source": [
    "# compile the keras model\n",
    "model.compile(optimizer = \"Adam\", loss = 'categorical_crossentropy', metrics = ['accuracy'])\n",
    "\n",
    "# fit the keras model on the dataset\n",
    "history = model.fit(x_train, y_train, batch_size = 500, epochs = 25)"
   ]
  },
  {
   "cell_type": "code",
   "execution_count": 38,
   "metadata": {},
   "outputs": [
    {
     "name": "stdout",
     "output_type": "stream",
     "text": [
      "6/6 [==============================] - 0s 5ms/step - loss: 1.7181 - accuracy: 0.3543\n",
      "Test: accuracy =  35.428571701049805 %\n"
     ]
    }
   ],
   "source": [
    "accuracy = model.evaluate(x_test, y_test, verbose=1)[1]\n",
    "print(\"Test: accuracy = \",accuracy*100,\"%\")"
   ]
  },
  {
   "cell_type": "markdown",
   "metadata": {},
   "source": [
    "### CNN"
   ]
  },
  {
   "cell_type": "code",
   "execution_count": 39,
   "metadata": {},
   "outputs": [
    {
     "name": "stdout",
     "output_type": "stream",
     "text": [
      "(525, 125, 100, 3)\n",
      "(175, 125, 100, 3)\n"
     ]
    }
   ],
   "source": [
    "x_train = x_train.reshape(x_train.shape[0], 125,100,3)\n",
    "x_test = x_test.reshape(x_test.shape[0], 125, 100, 3)\n",
    "print(x_train.shape)\n",
    "print(x_test.shape)"
   ]
  },
  {
   "cell_type": "code",
   "execution_count": 40,
   "metadata": {},
   "outputs": [
    {
     "name": "stdout",
     "output_type": "stream",
     "text": [
      "Model: \"sequential_2\"\n",
      "_________________________________________________________________\n",
      " Layer (type)                Output Shape              Param #   \n",
      "=================================================================\n",
      " conv2d (Conv2D)             (None, 125, 100, 64)      1792      \n",
      "                                                                 \n",
      " conv2d_1 (Conv2D)           (None, 125, 100, 64)      36928     \n",
      "                                                                 \n",
      " max_pooling2d (MaxPooling2D  (None, 62, 50, 64)       0         \n",
      " )                                                               \n",
      "                                                                 \n",
      " dropout (Dropout)           (None, 62, 50, 64)        0         \n",
      "                                                                 \n",
      " conv2d_2 (Conv2D)           (None, 62, 50, 128)       73856     \n",
      "                                                                 \n",
      " conv2d_3 (Conv2D)           (None, 62, 50, 128)       147584    \n",
      "                                                                 \n",
      " max_pooling2d_1 (MaxPooling  (None, 31, 25, 128)      0         \n",
      " 2D)                                                             \n",
      "                                                                 \n",
      " dropout_1 (Dropout)         (None, 31, 25, 128)       0         \n",
      "                                                                 \n",
      " flatten (Flatten)           (None, 99200)             0         \n",
      "                                                                 \n",
      " dense_10 (Dense)            (None, 512)               50790912  \n",
      "                                                                 \n",
      " dense_11 (Dense)            (None, 256)               131328    \n",
      "                                                                 \n",
      " dropout_2 (Dropout)         (None, 256)               0         \n",
      "                                                                 \n",
      " dense_12 (Dense)            (None, 7)                 1799      \n",
      "                                                                 \n",
      "=================================================================\n",
      "Total params: 51,184,199\n",
      "Trainable params: 51,184,199\n",
      "Non-trainable params: 0\n",
      "_________________________________________________________________\n"
     ]
    }
   ],
   "source": [
    "input_shape = (125, 100, 3)\n",
    "num_classes = 7\n",
    "\n",
    "model = Sequential()\n",
    "model.add(Conv2D(64, kernel_size=(3, 3),activation='relu',padding = 'Same',input_shape=input_shape))\n",
    "model.add(Conv2D(64,kernel_size=(3, 3), activation='relu',padding = 'Same'))\n",
    "model.add(MaxPooling2D(pool_size = (2, 2)))\n",
    "model.add(Dropout(0.16))\n",
    "\n",
    "model.add(Conv2D(128, (3, 3), activation='relu',padding = 'same'))\n",
    "model.add(Conv2D(128, (3, 3), activation='relu',padding = 'Same'))\n",
    "model.add(MaxPooling2D(pool_size=(2, 2)))\n",
    "model.add(Dropout(0.20))\n",
    "\n",
    "model.add(Flatten())\n",
    "model.add(Dense(512, activation='relu'))\n",
    "model.add(Dense(256, activation='relu'))\n",
    "model.add(Dropout(0.3))\n",
    "model.add(Dense(num_classes, activation='softmax'))\n",
    "model.summary()"
   ]
  },
  {
   "cell_type": "code",
   "execution_count": 41,
   "metadata": {},
   "outputs": [],
   "source": [
    "model.compile(optimizer= \"Adam\",\n",
    "            loss='categorical_crossentropy',\n",
    "            metrics=['accuracy'])\n",
    "\n",
    "learning_rate_reduction = ReduceLROnPlateau(monitor='val_accuracy', \n",
    "                                            patience=4, \n",
    "                                            verbose=1, \n",
    "                                            factor=0.5, \n",
    "                                            min_lr=0.00001)"
   ]
  },
  {
   "cell_type": "code",
   "execution_count": null,
   "metadata": {},
   "outputs": [
    {
     "name": "stdout",
     "output_type": "stream",
     "text": [
      "Epoch 1/10\n",
      "2/2 [==============================] - 23s 1s/step - loss: 2.8459 - accuracy: 0.1181\n",
      "Epoch 2/10\n",
      "2/2 [==============================] - 22s 1s/step - loss: 4.6677 - accuracy: 0.1619\n",
      "Epoch 3/10\n",
      "2/2 [==============================] - 22s 1s/step - loss: 2.0321 - accuracy: 0.2095\n",
      "Epoch 4/10\n",
      "2/2 [==============================] - 22s 1s/step - loss: 1.9045 - accuracy: 0.2305\n",
      "Epoch 5/10\n",
      "2/2 [==============================] - 22s 1s/step - loss: 1.9055 - accuracy: 0.2305\n",
      "Epoch 6/10\n",
      "2/2 [==============================] - 22s 1s/step - loss: 1.8571 - accuracy: 0.2438\n",
      "Epoch 7/10\n",
      "2/2 [==============================] - 22s 1s/step - loss: 1.8045 - accuracy: 0.2629\n",
      "Epoch 8/10\n"
     ]
    }
   ],
   "source": [
    "#x_train, x_validate, y_train, y_validate = train_test_split(x_train, y_train, test_size = 0.1, random_state = 999)\n",
    "\n",
    "\n",
    "# Reshape image in 3 dimensions (height = 100, width = 125 , canal = 3)\n",
    "x_train = x_train.reshape(x_train.shape[0], *(125, 100, 3))\n",
    "x_test = x_test.reshape(x_test.shape[0], *(125, 100, 3))\n",
    "#x_validate = x_validate.reshape(x_validate.shape[0], *(100, 125, 3))\n",
    "\n",
    "tf.config.run_functions_eagerly(True)\n",
    "\n",
    "\n",
    "model.fit(x_train, y_train, batch_size = 500, epochs = 10)"
   ]
  },
  {
   "cell_type": "code",
   "execution_count": null,
   "metadata": {},
   "outputs": [],
   "source": [
    "test_loss, test_acc = model.evaluate(x_test, y_test)\n",
    "print(\"Test Accuracy: \",test_acc*100,\"%\")"
   ]
  },
  {
   "cell_type": "code",
   "execution_count": null,
   "metadata": {},
   "outputs": [],
   "source": [
    "\n"
   ]
  },
  {
   "cell_type": "code",
   "execution_count": null,
   "metadata": {},
   "outputs": [],
   "source": []
  },
  {
   "cell_type": "code",
   "execution_count": null,
   "metadata": {},
   "outputs": [],
   "source": []
  },
  {
   "cell_type": "code",
   "execution_count": null,
   "metadata": {},
   "outputs": [],
   "source": []
  },
  {
   "cell_type": "code",
   "execution_count": null,
   "metadata": {},
   "outputs": [],
   "source": []
  },
  {
   "cell_type": "code",
   "execution_count": null,
   "metadata": {},
   "outputs": [],
   "source": []
  },
  {
   "cell_type": "code",
   "execution_count": null,
   "metadata": {},
   "outputs": [],
   "source": []
  },
  {
   "cell_type": "code",
   "execution_count": null,
   "metadata": {},
   "outputs": [],
   "source": []
  },
  {
   "cell_type": "code",
   "execution_count": null,
   "metadata": {},
   "outputs": [],
   "source": []
  }
 ],
 "metadata": {
  "kernelspec": {
   "display_name": "Python 3 (ipykernel)",
   "language": "python",
   "name": "python3"
  },
  "language_info": {
   "codemirror_mode": {
    "name": "ipython",
    "version": 3
   },
   "file_extension": ".py",
   "mimetype": "text/x-python",
   "name": "python",
   "nbconvert_exporter": "python",
   "pygments_lexer": "ipython3",
   "version": "3.9.12"
  }
 },
 "nbformat": 4,
 "nbformat_minor": 4
}
